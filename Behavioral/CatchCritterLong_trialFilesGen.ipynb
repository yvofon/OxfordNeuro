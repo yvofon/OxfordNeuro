{
 "cells": [
  {
   "cell_type": "code",
   "execution_count": 1,
   "metadata": {},
   "outputs": [],
   "source": [
    "## Script to generate randomized txt files for Catch the critter - Long experiment"
   ]
  },
  {
   "cell_type": "code",
   "execution_count": 51,
   "metadata": {},
   "outputs": [],
   "source": [
    "# Create a txt file with tab delimited numbers as follows (36 long, 0's for random trials)\n",
    "# targetID1 targetID2 xloc1 yloc1 xloc2 yloc2 delay1 delay2\n",
    "# target ID can be 1,2,3\n",
    "# x, y random pick between 100-400 [check this with presentation script], balanced by visual field (also within a trial one on each side)\n",
    "# delay can be 2000, 3200, 5000, needs to be balanced"
   ]
  },
  {
   "cell_type": "code",
   "execution_count": 66,
   "metadata": {},
   "outputs": [],
   "source": [
    "import numpy as np\n",
    "import pandas as pd\n"
   ]
  },
  {
   "cell_type": "code",
   "execution_count": null,
   "metadata": {},
   "outputs": [],
   "source": []
  },
  {
   "cell_type": "code",
   "execution_count": 67,
   "metadata": {},
   "outputs": [],
   "source": [
    "# Pixel value range\n",
    "x = [100, 400]\n",
    "\n",
    "\n",
    "# Set up coordinates and balance\n",
    "balanceLR = np.array([1,1,1,1,1,1,1,1,1, -1,-1,-1,-1,-1,-1,-1,-1, -1])\n",
    "balanceHL1 = np.array([1,1,1,1,1,1,1,1,1, -1,-1,-1,-1,-1,-1,-1,-1, -1])\n",
    "balanceHL2 = np.array([1,1,1,1,1,1,1,1,1, -1,-1,-1,-1,-1,-1,-1,-1, -1])\n",
    "\n",
    "np.random.shuffle(balanceLR)\n",
    "np.random.shuffle(balanceHL1)\n",
    "np.random.shuffle(balanceHL2)\n",
    "\n",
    "balanceLR1 = balanceLR\n",
    "balanceLR2 = -1*balanceLR\n",
    "\n",
    "# draw random values \n",
    "randX1 = np.around((np.random.rand(18)*(x[1]-x[0]) + x[0])*balanceLR1, decimals = 0)\n",
    "randX2 = np.around((np.random.rand(18)*(x[1]-x[0]) + x[0])*balanceLR2, decimals = 0)\n",
    "randY1 = np.around((np.random.rand(18)*(x[1]-x[0]) + x[0])*balanceHL1, decimals = 0)\n",
    "randY2 = np.around((np.random.rand(18)*(x[1]-x[0]) + x[0])*balanceHL1, decimals = 0)"
   ]
  },
  {
   "cell_type": "code",
   "execution_count": 68,
   "metadata": {},
   "outputs": [],
   "source": [
    "# Target identity\n",
    "tmpID = np.matrix('1,2; 2, 3; 3, 1; 1, 3; 2, 1; 3, 2')\n",
    "targetID = np.tile(tmpID, (3,1))\n",
    "\n",
    "#Set up delays matrix and randomize\n",
    "tmpD = np.matrix('2000, 3200; 2000, 5000; 3200, 5000')\n",
    "delays = np.repeat(tmpD, 6, axis = 0)\n",
    "\n",
    "rng_state = np.random.get_state()\n",
    "np.random.shuffle(delays)\n",
    "np.random.set_state(rng_state)\n",
    "np.random.shuffle(targetID)\n",
    "#np.random.shuffle(delays)\n",
    "#np.random.shuffle(targetID)\n"
   ]
  },
  {
   "cell_type": "code",
   "execution_count": 69,
   "metadata": {},
   "outputs": [
    {
     "data": {
      "text/plain": [
       "matrix([[3, 2],\n",
       "        [1, 3],\n",
       "        [3, 1],\n",
       "        [2, 3],\n",
       "        [3, 1],\n",
       "        [1, 3],\n",
       "        [3, 2],\n",
       "        [1, 2],\n",
       "        [1, 3],\n",
       "        [2, 1],\n",
       "        [1, 2],\n",
       "        [3, 1],\n",
       "        [2, 3],\n",
       "        [2, 1],\n",
       "        [1, 2],\n",
       "        [3, 2],\n",
       "        [2, 3],\n",
       "        [2, 1]])"
      ]
     },
     "execution_count": 69,
     "metadata": {},
     "output_type": "execute_result"
    }
   ],
   "source": [
    "targetID"
   ]
  },
  {
   "cell_type": "code",
   "execution_count": 70,
   "metadata": {
    "scrolled": true
   },
   "outputs": [],
   "source": [
    "# Generate random vs predictable trials\n",
    "\n",
    "randScenes = np.array([0,1])\n",
    "randScenes = np.repeat(randScenes, 18)\n",
    "np.random.shuffle(randScenes)"
   ]
  },
  {
   "cell_type": "code",
   "execution_count": 71,
   "metadata": {},
   "outputs": [
    {
     "name": "stdout",
     "output_type": "stream",
     "text": [
      "[[   3    2  210  314 -134  373 3200 5000]\n",
      " [   0    0    0    0    0    0    0    0]\n",
      " [   1    3 -337  335  131  376 2000 3200]\n",
      " [   0    0    0    0    0    0    0    0]\n",
      " [   3    1 -227 -285  231 -122 3200 5000]\n",
      " [   0    0    0    0    0    0    0    0]\n",
      " [   0    0    0    0    0    0    0    0]\n",
      " [   2    3  126 -391 -261 -191 2000 3200]\n",
      " [   0    0    0    0    0    0    0    0]\n",
      " [   3    1  323  257 -130  399 2000 5000]\n",
      " [   1    3 -268 -240  179 -106 3200 5000]\n",
      " [   3    2  162  173 -221  234 2000 5000]\n",
      " [   0    0    0    0    0    0    0    0]\n",
      " [   0    0    0    0    0    0    0    0]\n",
      " [   0    0    0    0    0    0    0    0]\n",
      " [   1    2  218 -114 -127 -265 2000 5000]\n",
      " [   1    3 -327 -368  197 -295 2000 5000]\n",
      " [   0    0    0    0    0    0    0    0]\n",
      " [   0    0    0    0    0    0    0    0]\n",
      " [   2    1  276  340 -316  319 2000 5000]\n",
      " [   0    0    0    0    0    0    0    0]\n",
      " [   1    2 -346 -274  104 -244 2000 3200]\n",
      " [   3    1 -122 -236  396 -290 2000 3200]\n",
      " [   0    0    0    0    0    0    0    0]\n",
      " [   2    3  241 -185 -208 -169 3200 5000]\n",
      " [   0    0    0    0    0    0    0    0]\n",
      " [   0    0    0    0    0    0    0    0]\n",
      " [   0    0    0    0    0    0    0    0]\n",
      " [   2    1 -108  247  126  145 2000 3200]\n",
      " [   0    0    0    0    0    0    0    0]\n",
      " [   0    0    0    0    0    0    0    0]\n",
      " [   1    2  328  118 -366  193 3200 5000]\n",
      " [   3    2 -363  361  193  105 2000 3200]\n",
      " [   0    0    0    0    0    0    0    0]\n",
      " [   2    3 -125 -216  169 -307 2000 5000]\n",
      " [   2    1  271  389 -324  192 3200 5000]]\n"
     ]
    }
   ],
   "source": [
    "# generate final matrix\n",
    "num = 0\n",
    "trialInfo = np.zeros((36, 8))\n",
    "for i in range(36):\n",
    "    if randScenes[i]:\n",
    "        trialInfo[i, 0] = targetID[num, 0]\n",
    "        trialInfo[i, 1] = targetID[num, 1]\n",
    "        trialInfo[i, 2] = randX1[num]\n",
    "        trialInfo[i, 3] = randY1[num]\n",
    "        trialInfo[i, 4] = randX2[num]\n",
    "        trialInfo[i, 5] = randY2[num]\n",
    "        trialInfo[i, 6] = delays[num, 0]\n",
    "        trialInfo[i, 7] = delays[num, 1]\n",
    "        num += 1\n",
    "#np.around(trialInfo, decimals = 0)\n",
    "trialInfo.astype(int)\n",
    "print(trialInfo.astype(int))\n"
   ]
  },
  {
   "cell_type": "code",
   "execution_count": 72,
   "metadata": {},
   "outputs": [],
   "source": [
    "# save file\n",
    "\n",
    "np.savetxt('targetParams25.txt', trialInfo, delimiter = '\\t', fmt = '%i')"
   ]
  },
  {
   "cell_type": "code",
   "execution_count": 41,
   "metadata": {},
   "outputs": [
    {
     "ename": "NameError",
     "evalue": "name 'trlInfo' is not defined",
     "output_type": "error",
     "traceback": [
      "\u001b[0;31m---------------------------------------------------------------------------\u001b[0m",
      "\u001b[0;31mNameError\u001b[0m                                 Traceback (most recent call last)",
      "\u001b[0;32m<ipython-input-41-2d224b0e8787>\u001b[0m in \u001b[0;36m<module>\u001b[0;34m()\u001b[0m\n\u001b[0;32m----> 1\u001b[0;31m \u001b[0mtrlInfo\u001b[0m\u001b[0;34m\u001b[0m\u001b[0m\n\u001b[0m",
      "\u001b[0;31mNameError\u001b[0m: name 'trlInfo' is not defined"
     ]
    }
   ],
   "source": [
    "trlInfo"
   ]
  },
  {
   "cell_type": "code",
   "execution_count": null,
   "metadata": {},
   "outputs": [],
   "source": []
  }
 ],
 "metadata": {
  "kernelspec": {
   "display_name": "Python 2",
   "language": "python",
   "name": "python2"
  },
  "language_info": {
   "codemirror_mode": {
    "name": "ipython",
    "version": 2
   },
   "file_extension": ".py",
   "mimetype": "text/x-python",
   "name": "python",
   "nbconvert_exporter": "python",
   "pygments_lexer": "ipython2",
   "version": "2.7.14"
  }
 },
 "nbformat": 4,
 "nbformat_minor": 2
}
