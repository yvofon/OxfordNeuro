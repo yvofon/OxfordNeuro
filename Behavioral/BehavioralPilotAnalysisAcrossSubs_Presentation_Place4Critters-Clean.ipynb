{
 "cells": [
  {
   "cell_type": "markdown",
   "metadata": {},
   "source": [
    "# Script for behavioral data analysis across subjects -- pilot experiment"
   ]
  },
  {
   "cell_type": "code",
   "execution_count": null,
   "metadata": {},
   "outputs": [],
   "source": [
    "import pandas as pd\n",
    "import numpy as np\n",
    "import matplotlib.pyplot as plt\n",
    "import os\n",
    "import seaborn as sb\n",
    "import scipy as sp\n",
    "import statsmodels.api as sm"
   ]
  },
  {
   "cell_type": "code",
   "execution_count": null,
   "metadata": {},
   "outputs": [],
   "source": [
    "homeDir = '/Users/yvonnefonken/Documents/Oxford/Research Projects/Behavioral/BehavioralGroup20191216'\n",
    "CSVDir  = homeDir + '/subCSV'\n",
    "resultsDir = homeDir + '/AcrossSubsResults'\n",
    "os.chdir(CSVDir)\n",
    "\n",
    "# Pilot 4, performed December 2019\n",
    "s1 = pd.read_csv('1L_pilot4.csv')\n",
    "s2 = pd.read_csv('2L_pilot4.csv')\n",
    "s3 = pd.read_csv('3L_pilot4.csv')\n",
    "s4 = pd.read_csv('4L_pilot4.csv')\n",
    "s5 = pd.read_csv('5L_pilot4.csv')\n",
    "s6 = pd.read_csv('6L_pilot4.csv')\n",
    "s7 = pd.read_csv('7L_pilot4.csv')\n",
    "#s8 = pd.read_csv('8L_pilot4.csv')\n",
    "s9 = pd.read_csv('9L_pilot4.csv')\n",
    "s10 = pd.read_csv('10L_pilot4.csv')\n",
    "s11 = pd.read_csv('11L_pilot4.csv')\n",
    "s12 = pd.read_csv('12L_pilot4.csv')\n",
    "s13 = pd.read_csv('13L_pilot4.csv')\n",
    "s14 = pd.read_csv('14L_pilot4.csv')\n",
    "s15 = pd.read_csv('15L_pilot4.csv')\n",
    "\n",
    "\n",
    "\n",
    "s1O = pd.read_csv('1O_pilot4.csv')\n",
    "s2O = pd.read_csv('2O_pilot4.csv')\n",
    "s3O = pd.read_csv('3O_pilot4.csv')\n",
    "s4O = pd.read_csv('4O_pilot4.csv')\n",
    "s5O = pd.read_csv('5O_pilot4.csv')\n",
    "s6O = pd.read_csv('6O_pilot4.csv')\n",
    "s7O = pd.read_csv('7O_pilot4.csv')\n",
    "#s8O = pd.read_csv('8O_pilot4.csv')\n",
    "s9O = pd.read_csv('9O_pilot4.csv')\n",
    "s10O = pd.read_csv('10O_pilot4.csv')\n",
    "s11O = pd.read_csv('11O_pilot4.csv')\n",
    "s12O = pd.read_csv('12O_pilot4.csv')\n",
    "s13O = pd.read_csv('13O_pilot4.csv')\n",
    "s14O = pd.read_csv('14O_pilot4.csv')\n",
    "s15O = pd.read_csv('15O_pilot4.csv')\n",
    "\n",
    "homeDir = '/Users/yvonnefonken/Documents/Oxford/Research Projects/Behavioral/BehaviouralGroup20200114'\n",
    "CSVDir  = homeDir + '/subCSV'\n",
    "os.chdir(CSVDir)\n",
    "\n",
    "# Pilot 4, performed January 2020\n",
    "s16 = pd.read_csv('16L_pilot4.csv')\n",
    "s17 = pd.read_csv('17L_pilot4.csv')\n",
    "s18 = pd.read_csv('18L_pilot4.csv')\n",
    "s19 = pd.read_csv('19L_pilot4.csv')\n",
    "s20 = pd.read_csv('20L_pilot4.csv')\n",
    "s21 = pd.read_csv('21L_pilot4.csv')\n",
    "s22 = pd.read_csv('22L_pilot4.csv')\n",
    "#s8 = pd.read_csv('8L_pilot4.csv')\n",
    "s23 = pd.read_csv('23L_pilot4.csv')\n",
    "s24 = pd.read_csv('24L_pilot4.csv')\n",
    "s25 = pd.read_csv('25L_pilot4.csv')\n",
    "s26 = pd.read_csv('26L_pilot4.csv')\n",
    "s27 = pd.read_csv('27L_pilot4.csv')\n",
    "s28 = pd.read_csv('28L_pilot4.csv')\n",
    "\n",
    "\n",
    "\n",
    "\n",
    "s16O = pd.read_csv('16O_pilot4.csv')\n",
    "s17O = pd.read_csv('17O_pilot4.csv')\n",
    "s18O = pd.read_csv('18O_pilot4.csv')\n",
    "s19O = pd.read_csv('19O_pilot4.csv')\n",
    "s20O = pd.read_csv('20O_pilot4.csv')\n",
    "s21O = pd.read_csv('21O_pilot4.csv')\n",
    "s22O = pd.read_csv('22O_pilot4.csv')\n",
    "#s8O = pd.read_csv('8O_pilot4.csv')\n",
    "s23O = pd.read_csv('23O_pilot4.csv')\n",
    "s24O = pd.read_csv('24O_pilot4.csv')\n",
    "s25O = pd.read_csv('25O_pilot4.csv')\n",
    "s26O = pd.read_csv('26O_pilot4.csv')\n",
    "s27O = pd.read_csv('27O_pilot4.csv')\n",
    "s28O = pd.read_csv('28O_pilot4.csv')\n",
    "\n"
   ]
  },
  {
   "cell_type": "code",
   "execution_count": null,
   "metadata": {},
   "outputs": [],
   "source": [
    "# Pilot 3, performed in october 2019 -- note this has x,y coordinate issue. Random and predictable coordinates are drawn from slightly different distributions\n",
    "homeDir = '/Users/yvonnefonken/Documents/Oxford/Research Projects/Behavioral/BehavioralPilot20191017'\n",
    "CSVDir  = homeDir + '/subCSV'\n",
    "resultsDir = homeDir + '/AcrossSubsResults'\n",
    "os.chdir(CSVDir)\n",
    "\n",
    "#s01 = pd.read_csv('01.csv')\n",
    "s1 = pd.read_csv('1L_pilot3.csv')\n",
    "s2 = pd.read_csv('2L_pilot3.csv')\n",
    "s3 = pd.read_csv('3L_pilot3.csv')\n",
    "s4 = pd.read_csv('4L_pilot3.csv')\n",
    "s5 = pd.read_csv('5L_pilot3.csv')\n",
    "s6 = pd.read_csv('6L_pilot3.csv')\n",
    "s7 = pd.read_csv('7L_pilot3.csv')\n",
    "s8 = pd.read_csv('8L_pilot3.csv')\n",
    "s9 = pd.read_csv('9L_pilot3.csv')\n",
    "s10 = pd.read_csv('10L_pilot3.csv')\n",
    "\n",
    "\n",
    "\n",
    "s1O = pd.read_csv('1O_pilot3.csv')\n",
    "s2O = pd.read_csv('2O_pilot3.csv')\n",
    "s3O = pd.read_csv('3O_pilot3.csv')\n",
    "s4O = pd.read_csv('4O_pilot3.csv')\n",
    "s5O = pd.read_csv('5O_pilot3.csv')\n",
    "s6O = pd.read_csv('6O_pilot3.csv')\n",
    "s7O = pd.read_csv('7O_pilot3.csv')\n",
    "s8O = pd.read_csv('8O_pilot3.csv')\n",
    "s9O = pd.read_csv('9O_pilot3.csv')\n",
    "s10O = pd.read_csv('10O_pilot3.csv')\n",
    "\n"
   ]
  },
  {
   "cell_type": "code",
   "execution_count": null,
   "metadata": {},
   "outputs": [],
   "source": [
    "# collapse across different behavioral groups\n",
    "\n",
    "\n",
    "# load data -- pilot 3 -- group study including orienting done in July 2019 (aptly named pilot 2)\n",
    "\n",
    "\n",
    "homeDir = '/Users/yvonnefonken/Documents/Oxford/Research Projects/Behavioral/Place4CrittersLearningAndOrientieng_201907'\n",
    "CSVDir  = homeDir + '/subCSV'\n",
    "resultsDir = homeDir + '/AcrossSubsResults'\n",
    "os.chdir(CSVDir)\n",
    "\n",
    "#s01 = pd.read_csv('01.csv')\n",
    "s1 = pd.read_csv('1L_pilot2.csv')\n",
    "s2 = pd.read_csv('2L_pilot2.csv')\n",
    "s3 = pd.read_csv('3L_pilot2.csv')\n",
    "s4 = pd.read_csv('4L_pilot2.csv')\n",
    "s5 = pd.read_csv('5L_pilot2.csv')\n",
    "s6 = pd.read_csv('6L_pilot2.csv')\n",
    "s7 = pd.read_csv('7L_pilot2.csv')\n",
    "s8 = pd.read_csv('8L_pilot2.csv')\n",
    "s9 = pd.read_csv('9L_pilot2.csv')\n",
    "s10 = pd.read_csv('10L_pilot2.csv')\n",
    "s11 = pd.read_csv('11L_pilot2.csv')\n",
    "s12 = pd.read_csv('12L_pilot2.csv')\n",
    "s13 = pd.read_csv('13L_pilot2.csv')\n",
    "s14 = pd.read_csv('14L_pilot2.csv')\n",
    "\n",
    "\n",
    "s1O = pd.read_csv('1O_pilot2.csv')\n",
    "s2O = pd.read_csv('2O_pilot2.csv')\n",
    "s3O = pd.read_csv('3O_pilot2.csv')\n",
    "s4O = pd.read_csv('4O_pilot2.csv')\n",
    "s5O = pd.read_csv('5O_pilot2.csv')\n",
    "s6O = pd.read_csv('6O_pilot2.csv')\n",
    "s7O = pd.read_csv('7O_pilot2.csv')\n",
    "s8O = pd.read_csv('8O_pilot2.csv')\n",
    "s9O = pd.read_csv('9O_pilot2.csv')\n",
    "s10O = pd.read_csv('10O_pilot2.csv')\n",
    "s11O = pd.read_csv('11O_pilot2.csv')\n",
    "s12O = pd.read_csv('12O_pilot2.csv')\n",
    "s13O = pd.read_csv('13O_pilot2.csv')\n",
    "s14O = pd.read_csv('14O_pilot2.csv')\n",
    "\n",
    "homeDir = '/Users/yvonnefonken/Documents/Oxford/Research Projects/Behavioral/Place4CrittersLearningOnly_20190617'\n",
    "CSVDir  = homeDir + '/subCSV'\n",
    "resultsDir = homeDir + '/AcrossSubsResults'\n",
    "os.chdir(CSVDir)\n",
    "\n",
    "#s01 = pd.read_csv('01.csv')\n",
    "s15 = pd.read_csv('1_pilot2.csv')\n",
    "s15['subCode'] = 15\n",
    "s16 = pd.read_csv('2_pilot2.csv')\n",
    "s16['subCode'] = 16\n",
    "s17 = pd.read_csv('3_pilot2.csv')\n",
    "s17['subCode'] = 17\n",
    "s18 = pd.read_csv('4_pilot2.csv')\n",
    "s18['subCode'] = 18\n",
    "s19 = pd.read_csv('5_pilot2.csv')\n",
    "s19['subCode'] = 19\n",
    "s20 = pd.read_csv('6_pilot2.csv')\n",
    "s20['subCode'] = 20\n",
    "s21 = pd.read_csv('7_pilot2.csv')\n",
    "s21['subCode'] = 21\n",
    "s22 = pd.read_csv('8_pilot2.csv')\n",
    "s22['subCode'] = 22\n",
    "s23 = pd.read_csv('9_pilot2.csv')\n",
    "s23['subCode'] = 23\n",
    "s24 = pd.read_csv('10_pilot2.csv')\n",
    "s24['subCode'] = 24\n",
    "s25 = pd.read_csv('11_pilot2.csv')\n",
    "s25['subCode'] = 25\n",
    "s26 = pd.read_csv('12_pilot2.csv')\n",
    "s26['subCode'] = 26\n",
    "\n",
    "# load data -- pilot colleagues\n",
    "homeDir = '/Users/yvonnefonken/Documents/Oxford/Research Projects/Behavioral/Place4Critters_earlyBuggyVersion_201905'\n",
    "CSVDir  = homeDir + '/subCSV'\n",
    "resultsDir = homeDir + '/AcrossSubsResults'\n",
    "os.chdir(CSVDir)\n",
    "\n",
    "#s01 = pd.read_csv('01.csv')\n",
    "s27 = pd.read_csv('1_pilot1.csv')\n",
    "s27['subCode'] = 27\n",
    "s28 = pd.read_csv('2_pilot1.csv')\n",
    "s28['subCode'] = 28\n",
    "s29 = pd.read_csv('3_pilot1.csv')\n",
    "s29['subCode'] = 29\n",
    "s30 = pd.read_csv('4_pilot1.csv')\n",
    "s30['subCode'] = 30\n",
    "s31 = pd.read_csv('5_pilot1.csv')\n",
    "s31['subCode'] = 31\n",
    "s32 = pd.read_csv('6_pilot1.csv')\n",
    "s32['subCode'] = 32\n",
    "s33 = pd.read_csv('7_pilot1.csv')\n",
    "s33['subCode'] = 33\n",
    "s34 = pd.read_csv('8_pilot1.csv')\n",
    "s34['subCode'] = 34\n",
    "s35 = pd.read_csv('9_pilot1.csv')\n",
    "s35['subCode'] = 35\n",
    "\n",
    "\n"
   ]
  },
  {
   "cell_type": "code",
   "execution_count": null,
   "metadata": {},
   "outputs": [],
   "source": [
    "# load data -- pilot 3 -- group study including orienting done in July 2019 (aptly named pilot 2)\n",
    "\n",
    "\n",
    "homeDir = '/Users/yvonnefonken/Documents/Oxford/Research Projects/Behavioral/Place4CrittersLearningAndOrientieng_201907'\n",
    "CSVDir  = homeDir + '/subCSV'\n",
    "resultsDir = homeDir + '/AcrossSubsResults'\n",
    "os.chdir(CSVDir)\n",
    "\n",
    "#s01 = pd.read_csv('01.csv')\n",
    "s1 = pd.read_csv('1L_pilot2.csv')\n",
    "s2 = pd.read_csv('2L_pilot2.csv')\n",
    "s3 = pd.read_csv('3L_pilot2.csv')\n",
    "s4 = pd.read_csv('4L_pilot2.csv')\n",
    "s5 = pd.read_csv('5L_pilot2.csv')\n",
    "s6 = pd.read_csv('6L_pilot2.csv')\n",
    "s7 = pd.read_csv('7L_pilot2.csv')\n",
    "s8 = pd.read_csv('8L_pilot2.csv')\n",
    "s9 = pd.read_csv('9L_pilot2.csv')\n",
    "s10 = pd.read_csv('10L_pilot2.csv')\n",
    "s11 = pd.read_csv('11L_pilot2.csv')\n",
    "s12 = pd.read_csv('12L_pilot2.csv')\n",
    "s13 = pd.read_csv('13L_pilot2.csv')\n",
    "s14 = pd.read_csv('14L_pilot2.csv')\n",
    "\n",
    "\n",
    "s1O = pd.read_csv('1O_pilot2.csv')\n",
    "s2O = pd.read_csv('2O_pilot2.csv')\n",
    "s3O = pd.read_csv('3O_pilot2.csv')\n",
    "s4O = pd.read_csv('4O_pilot2.csv')\n",
    "s5O = pd.read_csv('5O_pilot2.csv')\n",
    "s6O = pd.read_csv('6O_pilot2.csv')\n",
    "s7O = pd.read_csv('7O_pilot2.csv')\n",
    "s8O = pd.read_csv('8O_pilot2.csv')\n",
    "s9O = pd.read_csv('9O_pilot2.csv')\n",
    "s10O = pd.read_csv('10O_pilot2.csv')\n",
    "s11O = pd.read_csv('11O_pilot2.csv')\n",
    "s12O = pd.read_csv('12O_pilot2.csv')\n",
    "s13O = pd.read_csv('13O_pilot2.csv')\n",
    "s14O = pd.read_csv('14O_pilot2.csv')\n",
    "\n",
    "\n"
   ]
  },
  {
   "cell_type": "code",
   "execution_count": null,
   "metadata": {},
   "outputs": [],
   "source": [
    "# load data -- pilot 2\n",
    "\n",
    "\n",
    "homeDir = '/Users/yvonnefonken/Documents/Oxford/Research Projects/Behavioral/Place4CrittersLearningOnly_20190617'\n",
    "CSVDir  = homeDir + '/subCSV'\n",
    "resultsDir = homeDir + '/AcrossSubsResults'\n",
    "os.chdir(CSVDir)\n",
    "\n",
    "#s01 = pd.read_csv('01.csv')\n",
    "s1 = pd.read_csv('1_pilot2.csv')\n",
    "s2 = pd.read_csv('2_pilot2.csv')\n",
    "s3 = pd.read_csv('3_pilot2.csv')\n",
    "s4 = pd.read_csv('4_pilot2.csv')\n",
    "s5 = pd.read_csv('5_pilot2.csv')\n",
    "s6 = pd.read_csv('6_pilot2.csv')\n",
    "s7 = pd.read_csv('7_pilot2.csv')\n",
    "s8 = pd.read_csv('8_pilot2.csv')\n",
    "s9 = pd.read_csv('9_pilot2.csv')\n",
    "s10 = pd.read_csv('10_pilot2.csv')\n",
    "s11 = pd.read_csv('11_pilot2.csv')\n",
    "s12 = pd.read_csv('12_pilot2.csv')\n",
    "\n",
    "\n",
    "\n",
    "\n",
    "\n"
   ]
  },
  {
   "cell_type": "code",
   "execution_count": null,
   "metadata": {},
   "outputs": [],
   "source": [
    "# load data -- pilot colleagues - has repeating x,y coordinates for random scenes\n",
    "homeDir = '/Users/yvonnefonken/Documents/Oxford/Research Projects/Behavioral/Place4Critters_earlyBuggyVersion_201905'\n",
    "CSVDir  = homeDir + '/subCSV'\n",
    "resultsDir = homeDir + '/AcrossSubsResults'\n",
    "os.chdir(CSVDir)\n",
    "\n",
    "#s01 = pd.read_csv('01.csv')\n",
    "s1 = pd.read_csv('1_pilot1.csv')\n",
    "s2 = pd.read_csv('2_pilot1.csv')\n",
    "s3 = pd.read_csv('3_pilot1.csv')\n",
    "s4 = pd.read_csv('4_pilot1.csv')\n",
    "s5 = pd.read_csv('5_pilot1.csv')\n",
    "s6 = pd.read_csv('6_pilot1.csv')\n",
    "s7 = pd.read_csv('7_pilot1.csv')\n",
    "s8 = pd.read_csv('8_pilot1.csv')\n",
    "s9 = pd.read_csv('9_pilot1.csv')\n"
   ]
  },
  {
   "cell_type": "code",
   "execution_count": null,
   "metadata": {},
   "outputs": [],
   "source": [
    "# combine into one dataframe\n",
    "frames = [s1, s2, s3, s4, s5, s6, s7, s9, s10, s11, s12, s13, s14, s15, s16, s17, s18, s19, s20, s21, s22, s23, s24, s25, s26, s27, s28]\n",
    "framesO = [s1O, s2O, s3O, s4O, s5O, s6O, s7O, s9O, s10O, s11O, s12O, s13O, s14O, s15O, s16O, s17O, s18O, s19O, s20O, s21O, s22O, s23O, s24O, s25O, s26O, s27O, s28O]\n",
    "#framesL = [L01, L02, L03, L04, L05, L06, L07, L08, L10, L11, L12]\n",
    "\n",
    "#frames = [s14]\n",
    "data = pd.concat(frames, sort = False)#, ignore_index = True)\n",
    "dataO = pd.concat(framesO, sort = False)\n",
    "\n",
    "#df = data['subCode', 'DelaySecs', 'Marker', 'TargetIdentity', 'validity', 'answer', 'correctAnswer']\n",
    "df = data#[['DelaySecs', 'Keys', 'Marker', 'TargetIdentity', 'TargetStim', 'answer', 'correctAnswer', 'recRT', 'subCode', 'validity', 'vidName', 'kind', 'nRep', 'nRepValidity']]\n",
    "dfO = dataO\n"
   ]
  },
  {
   "cell_type": "code",
   "execution_count": null,
   "metadata": {},
   "outputs": [],
   "source": [
    "# combine into one dataframe\n",
    "frames = [s1, s2,  s4, s5, s6, s7, s8, s9, s10, s11, s12, s13, s14, s15, s16, s17, s18, s19, s20, s21, s22, s23, s24, s25, s26, s27, s28, s29, s30, s31, s32, s33, s34, s35]\n",
    "framesO = [s1O, s2O, s4O, s5O, s6O, s7O, s8O, s9O, s10O, s11O, s12O, s13O, s14O]\n",
    "#framesL = [L01, L02, L03, L04, L05, L06, L07, L08, L10, L11, L12]\n",
    "\n",
    "#frames = [s14]\n",
    "data = pd.concat(frames)#, ignore_index = True)\n",
    "dataO = pd.concat(framesO)\n",
    "\n",
    "#df = data['subCode', 'DelaySecs', 'Marker', 'TargetIdentity', 'validity', 'answer', 'correctAnswer']\n",
    "df = data#[['DelaySecs', 'Keys', 'Marker', 'TargetIdentity', 'TargetStim', 'answer', 'correctAnswer', 'recRT', 'subCode', 'validity', 'vidName', 'kind', 'nRep', 'nRepValidity']]\n",
    "dfO = dataO"
   ]
  },
  {
   "cell_type": "markdown",
   "metadata": {},
   "source": [
    "## Look at response distributions for different conditions"
   ]
  },
  {
   "cell_type": "code",
   "execution_count": null,
   "metadata": {},
   "outputs": [],
   "source": [
    "# Check if target identity makes a difference\n",
    "groupID = df[df['correct'] == 1.0].groupby(['Answer', 'subCode'])\n",
    "identityGr = groupID['RT']\n",
    "identityGrAgg = identityGr.agg(['mean'])\n",
    "print (identityGrAgg)\n",
    "#T1 = identityGrAgg.loc[(['frog'], 'mean')]\n",
    "\n",
    "#T2 = identityGrAgg.loc[(['parrot'], 'mean')]\n",
    "identityGrAgg = identityGrAgg.reset_index()\n",
    "#ttestResults = sp.stats.ttest_rel(T1, T2)\n",
    "#print(ttestResults)\n",
    "\n",
    "\n",
    "sb.factorplot(x = 'Answer', y = 'mean', data =identityGrAgg, hue = 'subCode')\n",
    "\n",
    "sb.factorplot(x = 'Answer', y = 'mean', data = identityGrAgg, kind = 'violin')\n",
    "\n",
    "\n"
   ]
  },
  {
   "cell_type": "code",
   "execution_count": null,
   "metadata": {},
   "outputs": [],
   "source": [
    "# Check if color/which buttonpress makes a difference\n",
    "groupID = df[df['correct'] == 1.0].groupby(['Answer', 'subCode'])\n",
    "identityGr = groupID['RT']\n",
    "identityGrAgg = identityGr.agg(['mean'])\n",
    "T1 = identityGrAgg.loc[([\"3.0\"], 'mean')]\n",
    "\n",
    "T2 = identityGrAgg.loc[([\"4.0\"], 'mean')]\n",
    "identityGrAgg = identityGrAgg.reset_index()\n",
    "ttestResults = sp.stats.ttest_rel(T1, T2)\n",
    "print(ttestResults)\n",
    "\n",
    "sb.factorplot(x= 'Answer', y = 'mean', data =identityGrAgg, hue = 'subCode')\n",
    "\n",
    "sb.factorplot(x = 'Answer', y = 'mean', data = identityGrAgg, kind = 'violin')"
   ]
  },
  {
   "cell_type": "code",
   "execution_count": null,
   "metadata": {},
   "outputs": [],
   "source": [
    "# Check if DelaySecs  makes a difference\n",
    "groupID = df[df['correct'] == 1.0].groupby(['Delay', 'subCode'])\n",
    "identityGr = groupID['RT']\n",
    "identityGrAgg = identityGr.agg(['mean'])\n",
    "\n",
    "#T1 = identityGrAgg.loc[([0.75], 'mean')]\n",
    "\n",
    "#T2 = identityGrAgg.loc[([1.75], 'mean')]\n",
    "identityGrAgg = identityGrAgg.reset_index()\n",
    "#ttestResults = sp.stats.ttest_rel(T1, T2)\n",
    "#print(ttestResults)\n",
    "\n",
    "sb.factorplot(x= 'Delay', y = 'mean', data =identityGrAgg, hue = 'subCode')\n",
    "\n",
    "sb.factorplot(x = 'Delay', y = 'mean', data = identityGrAgg, kind = 'violin')"
   ]
  },
  {
   "cell_type": "code",
   "execution_count": null,
   "metadata": {},
   "outputs": [],
   "source": [
    "# Create pairgrid of all relevant \n",
    "#grouped = df[df['correctAnswer'] == 1.0].groupby(['DelaySecs', 'subCode', 'nRepValidity', 'kind'])\n",
    "group1 = df[df['correct'] == 1.0].groupby(['Delay', 'Condition','Critter', 'subCode'])\n",
    "group2 = group1['RT']\n",
    "groupAggOverall = group2.agg(['mean']).reset_index()\n",
    "g = sb.PairGrid(groupAggOverall, x_vars = ['Delay', 'Condition', 'Critter'], y_vars = ['mean'] )\n",
    "g.map(sb.violinplot, palette = 'Set3')"
   ]
  },
  {
   "cell_type": "code",
   "execution_count": null,
   "metadata": {},
   "outputs": [],
   "source": [
    "# Create pairgrid of all relevant \n",
    "#grouped = df[df['correctAnswer'] == 1.0].groupby(['DelaySecs', 'subCode', 'nRepValidity', 'kind'])\n",
    "group1 = df.groupby(['Delay', 'Condition','Critter', 'subCode'])\n",
    "group2 = group1['correct']\n",
    "groupAggOverall = group2.agg(['mean']).reset_index()\n",
    "g = sb.PairGrid(groupAggOverall, x_vars = ['Delay', 'Condition', 'Critter'], y_vars = ['mean'] )\n",
    "g.map(sb.violinplot, palette = 'Set3')"
   ]
  },
  {
   "cell_type": "code",
   "execution_count": null,
   "metadata": {},
   "outputs": [],
   "source": [
    "indexCorrect = (df['correct'] == 1) & (df['RT']< 1200)"
   ]
  },
  {
   "cell_type": "code",
   "execution_count": null,
   "metadata": {},
   "outputs": [],
   "source": [
    "%matplotlib inline \n",
    "#RT by validity\n",
    "grouped = df[indexCorrect].groupby(['Delay', 'subCode', 'Condition'])\n",
    "grouped_RT = grouped['RT']\n",
    "aggRTdata = grouped_RT.agg(['mean', 'std', 'min', 'max']).reset_index()\n",
    "sb.factorplot(x = 'Delay' , y = 'mean', data = aggRTdata, hue = 'Condition', palette = 'Blues')\n",
    "\n",
    "#Precision\n",
    "groupedP = df[df['RT'] < 1200].groupby(['Delay', 'subCode', 'Condition'])\n",
    "grouped_P = groupedP['correct']\n",
    "aggPrecdata = grouped_P.agg(['mean', 'std', 'min', 'max']).reset_index()\n",
    "sb.factorplot(x = 'Delay' , y = 'mean', data = aggPrecdata, hue = 'Condition', palette = 'Reds')"
   ]
  },
  {
   "cell_type": "code",
   "execution_count": null,
   "metadata": {},
   "outputs": [],
   "source": [
    "#By subject\n",
    "%matplotlib inline\n",
    "#RT by validity\n",
    "grouped = df[indexCorrect].groupby(['Delay', 'subCode', 'Condition'])\n",
    "grouped_RT = grouped['RT']\n",
    "aggRTdata = grouped_RT.agg(['mean', 'std', 'min', 'max']).reset_index()\n",
    "sb.factorplot(x = 'Condition' , y = 'mean', data = aggRTdata, hue = 'subCode', col = 'Delay')\n",
    "\n",
    "#Precision\n",
    "groupedP = df.groupby(['Delay', 'subCode', 'Condition'])\n",
    "grouped_P = groupedP['correct']\n",
    "aggPrecdata = grouped_P.agg(['mean', 'std', 'min', 'max']).reset_index()\n",
    "sb.factorplot(x = 'Condition' , y = 'mean', data = aggPrecdata, hue = 'subCode', col = 'Delay')\n",
    "\n"
   ]
  },
  {
   "cell_type": "code",
   "execution_count": null,
   "metadata": {},
   "outputs": [],
   "source": [
    "indexCorrectL = (dfL['correct'] == 1) & (dfL['RT1']< 1800)\n",
    "\n",
    "%matplotlib inline \n",
    "#RT by validity\n",
    "grouped = dfL[indexCorrectL].groupby(['nRep', 'subCode', 'Condition'])\n",
    "grouped_RT = grouped['RT1']\n",
    "aggRTdata = grouped_RT.agg(['mean', 'std', 'min', 'max']).reset_index()\n",
    "sb.factorplot(x = 'nRep' , y = 'mean', data = aggRTdata, hue = 'Condition', palette = 'Blues')\n",
    "\n",
    "#Precision\n",
    "groupedP = dfL[dfL['RT1'] < 1800].groupby(['nRep', 'subCode', 'Condition'])\n",
    "grouped_P = groupedP['correct1']\n",
    "aggPrecdata = grouped_P.agg(['mean', 'std', 'min', 'max']).reset_index()\n",
    "sb.factorplot(x = 'nRep' , y = 'mean', data = aggPrecdata, hue = 'Condition', palette = 'Reds')\n"
   ]
  },
  {
   "cell_type": "code",
   "execution_count": null,
   "metadata": {},
   "outputs": [],
   "source": [
    "#By subject\n",
    "%matplotlib inline\n",
    "#RT by validity\n",
    "grouped = dfL[dfL['correct'] == 1.0].groupby(['Delay1', 'subCode', 'Condition'])\n",
    "grouped_RT = grouped['RT1']\n",
    "aggRTdata = grouped_RT.agg(['mean', 'std', 'min', 'max']).reset_index()\n",
    "sb.factorplot(x = 'Condition' , y = 'mean', data = aggRTdata, hue = 'subCode', col = 'Delay1')\n",
    "\n",
    "#Precision\n",
    "groupedP = dfL.groupby(['Delay1', 'subCode', 'Condition'])\n",
    "grouped_P = groupedP['correct']\n",
    "aggPrecdata = grouped_P.agg(['mean', 'std', 'min', 'max']).reset_index()\n",
    "sb.factorplot(x = 'Condition' , y = 'mean', data = aggPrecdata, hue = 'subCode', col = 'Delay1')\n",
    "\n"
   ]
  },
  {
   "cell_type": "code",
   "execution_count": null,
   "metadata": {},
   "outputs": [],
   "source": [
    "\n",
    "df = df.reset_index()"
   ]
  },
  {
   "cell_type": "markdown",
   "metadata": {},
   "source": [
    "## Plot task effects for RT and precision"
   ]
  },
  {
   "cell_type": "code",
   "execution_count": null,
   "metadata": {},
   "outputs": [],
   "source": [
    "# Clean up dataframe\n",
    "\n",
    "df = df.reset_index()\n",
    "\n",
    "df['targetDistance1'] = np.sqrt(df['Target1X']*df['Target1X'] + df['Target1Y']*df['Target1Y'])\n",
    "df['targetDistance2'] = np.sqrt(df['Target2X']*df['Target2X'] + df['Target2Y']*df['Target2Y'])\n",
    "\n",
    "#Learning first\n",
    "df.drop(df[df['RTselec1'] > 2000].index, inplace = True)\n",
    "df.drop(df[df['RTselec2'] > 2000].index, inplace = True)\n",
    "df.drop(df[df['RTplace1'] > 2000].index, inplace = True)\n",
    "df.drop(df[df['RTplace2'] > 2000].index, inplace = True)\n",
    "\n",
    "df.drop(df[df['pixelError1'] > 400].index, inplace = True)\n",
    "df.drop(df[df['pixelError2'] > 400].index, inplace = True)\n",
    "#df.drop(df[df['targetDistance1'] >425].index, inplace = True)\n",
    "#df.drop(df[df['targetDistance2'] >425].index, inplace = True)\n",
    "\n",
    "#df.drop(df[df['targetDistance1'] < 225].index, inplace = True)\n",
    "#df.drop(df[df['targetDistance2'] < 225].index, inplace = True)\n"
   ]
  },
  {
   "cell_type": "code",
   "execution_count": null,
   "metadata": {},
   "outputs": [],
   "source": [
    "# Look at variability of selection\n",
    "grouped = df[df['correct'] == 1.0].groupby([ 'subCode', 'Condition'])\n",
    "grouped_RT = grouped['selecError2']\n",
    "aggRTdata = grouped_RT.agg(['mean', 'std', 'min', 'max']).reset_index()\n",
    "sb.factorplot(x = 'Condition' , y = 'mean', data = aggRTdata, palette = 'Greens', kind = 'violin')"
   ]
  },
  {
   "cell_type": "code",
   "execution_count": null,
   "metadata": {},
   "outputs": [],
   "source": [
    "sb.FacetGrid(df, row = 'Condition', margin_titles = True)"
   ]
  },
  {
   "cell_type": "code",
   "execution_count": null,
   "metadata": {},
   "outputs": [],
   "source": [
    "grouped = df[df['correct'] == 1.0].groupby([ 'subCode', 'Condition', 'Scene'])\n",
    "grouped_RT = grouped['pixelError1']\n",
    "aggRTdata = grouped_RT.agg(['mean', 'std', 'min', 'max']).reset_index()\n",
    "sb.factorplot(x = 'Scene' , y = 'mean', data = aggRTdata, hue = 'Condition')"
   ]
  },
  {
   "cell_type": "code",
   "execution_count": null,
   "metadata": {},
   "outputs": [],
   "source": [
    "df['targetDistance1'] = np.sqrt(df['Target1X']*df['Target1X'] + df['Target1Y']*df['Target1Y'])\n",
    "df['targetDistance2'] = np.sqrt(df['Target2X']*df['Target2X'] + df['Target2Y']*df['Target2Y'])"
   ]
  },
  {
   "cell_type": "code",
   "execution_count": null,
   "metadata": {},
   "outputs": [],
   "source": [
    "sb.scatterplot(x = 'targetDistance1', y = 'pixelError1', data = df, hue = 'Condition' )"
   ]
  },
  {
   "cell_type": "code",
   "execution_count": null,
   "metadata": {},
   "outputs": [],
   "source": [
    "\n",
    "%matplotlib inline \n",
    "#RT by validity\n",
    "grouped = df[df['correct1'] == 1.0].groupby(['nRep', 'subCode', 'Condition'])\n",
    "grouped_RT = grouped['RTselec1']\n",
    "aggRTdata = grouped_RT.agg(['mean', 'std', 'min', 'max']).reset_index()\n",
    "sb.factorplot(x = 'nRep' , y = 'mean', data = aggRTdata, hue = 'Condition', palette = 'Blues')\n",
    "\n",
    "#RT by validity\n",
    "grouped = df[df['correct1'] == 1.0].groupby(['nRep', 'subCode', 'Condition'])\n",
    "grouped_RT = grouped['RTplace1']\n",
    "aggRTdata = grouped_RT.agg(['mean', 'std', 'min', 'max']).reset_index()\n",
    "sb.factorplot(x = 'nRep' , y = 'mean', data = aggRTdata, hue = 'Condition', palette = 'Blues')\n",
    "\n",
    "#Precision\n",
    "groupedP = df.groupby(['nRep', 'subCode', 'Condition'])\n",
    "grouped_P = groupedP['correct1']\n",
    "aggPrecdata = grouped_P.agg(['mean', 'std', 'min', 'max']).reset_index()\n",
    "sb.factorplot(x = 'nRep' , y = 'mean', data = aggPrecdata, hue = 'Condition', palette = 'Reds')\n"
   ]
  },
  {
   "cell_type": "code",
   "execution_count": null,
   "metadata": {},
   "outputs": [],
   "source": [
    "%matplotlib inline \n",
    "#RT by validity\n",
    "grouped = df[df['correct1'] == 1.0].groupby(['nRep', 'subCode', 'Condition'])\n",
    "grouped_RT = grouped['RTselec1']\n",
    "aggRTdata = grouped_RT.agg(['mean', 'std', 'min', 'max']).reset_index()\n",
    "sb.factorplot(x = 'nRep' , y = 'mean', data = aggRTdata, hue = 'Condition', palette = 'Blues')\n",
    "\n",
    "#RT by validity\n",
    "grouped = df[df['correct1'] == 1.0].groupby(['nRep', 'subCode', 'Condition'])\n",
    "grouped_RT = grouped['RTplace1']\n",
    "aggRTdata = grouped_RT.agg(['mean', 'std', 'min', 'max']).reset_index()\n",
    "sb.factorplot(x = 'nRep' , y = 'mean', data = aggRTdata, hue = 'Condition', palette = 'Blues')\n",
    "\n",
    "#Precision\n",
    "groupedP = df.groupby(['nRep', 'subCode', 'Condition'])\n",
    "grouped_P = groupedP['correct1']\n",
    "aggPrecdata = grouped_P.agg(['mean', 'std', 'min', 'max']).reset_index()\n",
    "sb.factorplot(x = 'nRep' , y = 'mean', data = aggPrecdata, hue = 'Condition', palette = 'Reds')"
   ]
  },
  {
   "cell_type": "code",
   "execution_count": null,
   "metadata": {},
   "outputs": [],
   "source": [
    "%matplotlib inline \n",
    "#RT by validity\n",
    "grouped = df[df['correct2'] == 1.0].groupby(['nRep', 'subCode', 'Condition'])\n",
    "grouped_RT = grouped['RTselec2']\n",
    "aggRTdata = grouped_RT.agg(['mean', 'std', 'min', 'max']).reset_index()\n",
    "sb.factorplot(x = 'nRep' , y = 'mean', data = aggRTdata, hue = 'Condition', palette = 'Blues')\n",
    "\n",
    "grouped = df[df['correct2'] == 1.0].groupby(['nRep', 'subCode', 'Condition'])\n",
    "grouped_RT = grouped['RTplace2']\n",
    "aggRTdata = grouped_RT.agg(['mean', 'std', 'min', 'max']).reset_index()\n",
    "sb.factorplot(x = 'nRep' , y = 'mean', data = aggRTdata, hue = 'Condition', palette = 'Blues')\n",
    "\n",
    "#Precision\n",
    "groupedP = df.groupby(['nRep', 'subCode', 'Condition'])\n",
    "grouped_P = groupedP['correct2']\n",
    "aggPrecdata = grouped_P.agg(['mean', 'std', 'min', 'max']).reset_index()\n",
    "sb.factorplot(x = 'nRep' , y = 'mean', data = aggPrecdata, hue = 'Condition', palette = 'Reds')"
   ]
  },
  {
   "cell_type": "code",
   "execution_count": null,
   "metadata": {},
   "outputs": [],
   "source": [
    "grouped = df[df['correct1'] == 1.0].groupby(['Condition', 'nRep', 'subCode'])\n",
    "grouped_pix = grouped['pixelError1']\n",
    "aggPixdata = grouped_pix.agg(['mean']).reset_index()\n",
    "sb.factorplot(x = 'nRep' , y = 'mean', data = aggPixdata,hue = 'Condition', palette = 'Greens')#, col = 'blockType')\n",
    "\n",
    "grouped = df[df['correct2'] == 1.0].groupby(['Condition', 'nRep', 'subCode'])\n",
    "grouped_pix = grouped['pixelError2']\n",
    "aggPixdata = grouped_pix.agg(['mean']).reset_index()\n",
    "sb.factorplot(x = 'nRep' , y = 'mean', data = aggPixdata,hue = 'Condition', palette = 'Greens')#, col = 'blockType')"
   ]
  },
  {
   "cell_type": "code",
   "execution_count": null,
   "metadata": {},
   "outputs": [],
   "source": [
    "grouped = df[df['nRep'] == 1.0].groupby(['Condition', 'nRep', 'subCode'])\n",
    "grouped_pix = grouped['pixelError1']\n",
    "aggPixdata = grouped_pix.agg(['mean']).reset_index()\n",
    "sb.factorplot(x = 'Condition' , y = 'mean', data = aggPixdata,hue = 'subCode')#, col = 'blockType')\n",
    "\n",
    "grouped = df[df['nRep'] == 1.0].groupby(['Condition', 'nRep', 'subCode'])\n",
    "grouped_pix = grouped['pixelError2']\n",
    "aggPixdata = grouped_pix.agg(['mean']).reset_index()\n",
    "sb.factorplot(x = 'Condition' , y = 'mean', data = aggPixdata,hue = 'subCode')#, col = 'blockType')"
   ]
  },
  {
   "cell_type": "code",
   "execution_count": null,
   "metadata": {},
   "outputs": [],
   "source": [
    "# Combine pixel errors\n",
    "\n",
    "grouped = df[df['correct1'] == 1.0].groupby(['Condition', 'nRep', 'subCode'])\n",
    "grouped_pix = grouped['pixelError1']\n",
    "aggPixdata = grouped_pix.agg(['mean']).reset_index()\n",
    "print(len(aggPixdata))\n",
    "#sb.factorplot(x = 'nRep' , y = 'mean', data = aggPixdata,hue = 'Condition', palette = 'Greens')#, col = 'blockType')\n",
    "\n",
    "grouped = df[df['correct2'] == 1.0].groupby(['Condition', 'nRep', 'subCode'])\n",
    "grouped_pix = grouped['pixelError2']\n",
    "aggPixdata2 = grouped_pix.agg(['mean']).reset_index()\n",
    "aggPixdata.append(aggPixdata2)\n",
    "#df.rename(columns={\"})\n",
    "\n",
    "sb.factorplot(x = 'nRep' , y = 'mean', data = aggPixdata,hue = 'Condition', palette = 'Greens')#, col = 'blockType')"
   ]
  },
  {
   "cell_type": "markdown",
   "metadata": {},
   "source": [
    "## T-tests (not primary stats modeling, see LME further down)"
   ]
  },
  {
   "cell_type": "code",
   "execution_count": null,
   "metadata": {},
   "outputs": [],
   "source": [
    "# Test RT difference\n",
    "indexCorrect = (df['correct'] == 1) & (df['RT']< 1200)\n",
    "groupID = df[indexCorrect].groupby(['Delay', 'Condition', 'subCode'])\n",
    "RTdiffGr = groupID['RT']\n",
    "RTdiffAgg = RTdiffGr.agg(['mean'])\n",
    "\n",
    "T1 = RTdiffAgg.loc[([3200],  [\"predicted\"]), 'mean']\n",
    "T2 = RTdiffAgg.loc[([3200],  [\"random\"]), 'mean']\n",
    "RTdiffAgg = RTdiffAgg.reset_index()\n",
    "\n",
    "\n",
    "\n",
    "ttestResults = sp.stats.ttest_rel(T1, T2)\n",
    "print(ttestResults)"
   ]
  },
  {
   "cell_type": "code",
   "execution_count": null,
   "metadata": {},
   "outputs": [],
   "source": [
    "# Test RT difference\n",
    "indexCorrect = (df['correct'] == 1) & (df['RT']< 1200)\n",
    "groupID = df[indexCorrect].groupby([ 'Condition', 'subCode'])\n",
    "RTdiffGr = groupID['RT']\n",
    "RTdiffAgg = RTdiffGr.agg(['mean'])\n",
    "\n",
    "T1 = RTdiffAgg.loc[(  [\"predicted\"]), 'mean']\n",
    "T2 = RTdiffAgg.loc[(  [\"random\"]), 'mean']\n",
    "RTdiffAgg = RTdiffAgg.reset_index()\n",
    "\n",
    "\n",
    "\n",
    "ttestResults = sp.stats.ttest_rel(T1, T2)\n",
    "print(ttestResults)"
   ]
  },
  {
   "cell_type": "code",
   "execution_count": null,
   "metadata": {},
   "outputs": [],
   "source": [
    "# Test pixelerror difference\n",
    "indexCorrect = (df['correct1'] == 1) \n",
    "groupID = df[indexCorrect].groupby([ 'Condition', 'subCode'])\n",
    "RTdiffGr = groupID['pixelError1']\n",
    "RTdiffAgg = RTdiffGr.agg(['mean'])\n",
    "\n",
    "T1 = RTdiffAgg.loc[(  [\"predicted\"]), 'mean']\n",
    "T2 = RTdiffAgg.loc[(  [\"random\"]), 'mean']\n",
    "RTdiffAgg = RTdiffAgg.reset_index()\n",
    "\n",
    "\n",
    "\n",
    "ttestResults = sp.stats.ttest_rel(T1, T2)\n",
    "print(ttestResults)"
   ]
  },
  {
   "cell_type": "code",
   "execution_count": null,
   "metadata": {},
   "outputs": [],
   "source": [
    "# Test pixelerror difference\n",
    "pvals = []\n",
    "for i in range(13):\n",
    "    print(i)\n",
    "    indexCorrect = (df['correct2'] == 1) \n",
    "    groupID = df[indexCorrect].groupby([ 'nRep', 'Condition', 'subCode'])\n",
    "    RTdiffGr = groupID['pixelError1']\n",
    "    RTdiffAgg = RTdiffGr.agg(['mean'])\n",
    "\n",
    "    T1 = RTdiffAgg.loc[( [i], [\"predicted\"]), 'mean']\n",
    "    T2 = RTdiffAgg.loc[(  [i],[\"random\"]), 'mean']\n",
    "    RTdiffAgg = RTdiffAgg.reset_index()\n",
    "\n",
    "\n",
    "\n",
    "    ttestResults = sp.stats.ttest_rel(T1, T2)\n",
    "    pvals.append(ttestResults[1])\n",
    "    print(ttestResults)"
   ]
  },
  {
   "cell_type": "code",
   "execution_count": null,
   "metadata": {},
   "outputs": [],
   "source": [
    "# Test accuracy difference\n",
    "\n",
    "groupID = df[df['RT']< 1200].groupby(['Delay', 'Condition', 'subCode'])\n",
    "AccdiffGr = groupID['correct']\n",
    "AccdiffAgg = AccdiffGr.agg(['mean'])\n",
    "\n",
    "T1 = AccdiffAgg.loc[([2000],  [\"predicted\"]), 'mean']\n",
    "T2 = AccdiffAgg.loc[([2000],  [\"random\"]), 'mean']\n",
    "AccdiffAgg = AccdiffAgg.reset_index()\n",
    "\n",
    "\n",
    "ttestResults = sp.stats.ttest_rel(T1, T2)\n",
    "print(ttestResults)"
   ]
  },
  {
   "cell_type": "code",
   "execution_count": null,
   "metadata": {},
   "outputs": [],
   "source": [
    "# Test accuracy difference\n",
    "groupID = df[df['RT']< 1200].groupby( ['Condition', 'subCode'])\n",
    "AccdiffGr = groupID['correct']\n",
    "AccdiffAgg = AccdiffGr.agg(['mean'])\n",
    "\n",
    "T1 = AccdiffAgg.loc[(  [\"predicted\"]), 'mean']\n",
    "T2 = AccdiffAgg.loc[(  [\"random\"]), 'mean']\n",
    "AccdiffAgg = AccdiffAgg.reset_index()\n",
    "\n",
    "\n",
    "ttestResults = sp.stats.ttest_rel(T1, T2)\n",
    "print(ttestResults)"
   ]
  },
  {
   "cell_type": "code",
   "execution_count": null,
   "metadata": {},
   "outputs": [],
   "source": [
    "AccdiffAgg"
   ]
  },
  {
   "cell_type": "code",
   "execution_count": null,
   "metadata": {},
   "outputs": [],
   "source": [
    "from statsmodels.formula.api import ols\n",
    "from statsmodels.stats.anova import anova_lm\n",
    "\n",
    "groupID = df.groupby(['Delay', 'Condition', 'subCode'])\n",
    "AccdiffGr = groupID['correct']\n",
    "AccdiffAgg = AccdiffGr.agg(['mean']).reset_index()\n",
    "\n",
    "formula = 'mean ~ Delay + Condition'\n",
    "modelAcc = ols(formula, AccdiffAgg).fit()\n",
    "aov_table = anova_lm(modelAcc, typ=2)\n",
    "\n",
    "# Wrong code, this is not a repeated measures anova"
   ]
  },
  {
   "cell_type": "code",
   "execution_count": null,
   "metadata": {},
   "outputs": [],
   "source": [
    "aov_table"
   ]
  },
  {
   "cell_type": "code",
   "execution_count": null,
   "metadata": {},
   "outputs": [],
   "source": [
    "dfO['MoveOnset']"
   ]
  },
  {
   "cell_type": "markdown",
   "metadata": {},
   "source": [
    "## Orienting"
   ]
  },
  {
   "cell_type": "code",
   "execution_count": null,
   "metadata": {},
   "outputs": [],
   "source": [
    "# Clean up dataframe\n",
    "dfO = dfO.reset_index()\n",
    "dfO['targetDistance'] = np.sqrt(dfO['Target1X']*dfO['Target1X'] + dfO['Target1Y']*dfO['Target1Y'])\n",
    "\n",
    "dfO.drop(dfO[dfO['RTselec1'] > 1500].index, inplace = True)\n",
    "\n",
    "\n",
    "dfO.drop(dfO[dfO['pixelError'] > 300].index, inplace = True)\n",
    "dfO.drop(dfO[abs(dfO['MoveOnset']) > 1200].index, inplace = True)\n",
    "#dfO.drop(dfO[dfO['targetDistance'] > 425].index, inplace = True)\n",
    "#dfO.drop(dfO[dfO['targetDistance'] < 225].index, inplace = True)\n",
    "#dfO.drop(dfO[dfO['nRep'] > 4].index, inplace = True)\n"
   ]
  },
  {
   "cell_type": "code",
   "execution_count": null,
   "metadata": {},
   "outputs": [],
   "source": [
    "sb.scatterplot(x = 'targetDistance', y = 'pixelError', data = dfO, hue = 'Condition')"
   ]
  },
  {
   "cell_type": "code",
   "execution_count": null,
   "metadata": {},
   "outputs": [],
   "source": [
    "# Pixel error\n",
    "grouped = dfO.groupby(['Condition', 'nRep', 'subCode'])\n",
    "grouped_pix = grouped['pixelError']\n",
    "aggPixdata = grouped_pix.agg(['mean']).reset_index()\n",
    "sb.factorplot(x = 'nRep' , y = 'mean', data = aggPixdata,hue = 'Condition', palette = 'Greens')#, col = 'blockType')\n",
    "\n",
    "\n",
    "grouped = dfO[dfO['Delay'] == 2000.0].groupby(['Condition', 'nRep', 'subCode'])\n",
    "grouped_pix = grouped['pixelError']\n",
    "aggPixdata = grouped_pix.agg(['mean']).reset_index()\n",
    "sb.factorplot(x = 'nRep' , y = 'mean', data = aggPixdata,hue = 'Condition', palette = 'Greens')#, col = 'blockType')\n",
    "\n",
    "\n",
    "grouped = dfO[dfO['Delay'] == 3200.0].groupby(['Condition', 'nRep', 'subCode'])\n",
    "grouped_pix = grouped['pixelError']\n",
    "aggPixdata = grouped_pix.agg(['mean']).reset_index()\n",
    "sb.factorplot(x = 'nRep' , y = 'mean', data = aggPixdata,hue = 'Condition', palette = 'Greens')#, col = 'blockType')\n",
    "\n",
    "\n",
    "\n",
    "grouped = dfO.groupby(['Condition', 'Delay', 'subCode'])\n",
    "grouped_pix = grouped['pixelError']\n",
    "aggPixdata = grouped_pix.agg(['mean']).reset_index()\n",
    "sb.factorplot(x = 'Delay' , y = 'mean', data = aggPixdata,hue = 'Condition', palette = 'Greens')#, col = 'blockType')"
   ]
  },
  {
   "cell_type": "code",
   "execution_count": null,
   "metadata": {},
   "outputs": [],
   "source": [
    "# Test pixelerror difference\n",
    "#indexCorrect = (dfO['correct1'] == 1) \n",
    "groupID = dfO.groupby([ 'Condition', 'subCode'])\n",
    "RTdiffGr = groupID['pixelError']\n",
    "RTdiffAgg = RTdiffGr.agg(['mean'])\n",
    "\n",
    "T1 = RTdiffAgg.loc[(  [\"predicted\"]), 'mean']\n",
    "T2 = RTdiffAgg.loc[(  [\"random\"]), 'mean']\n",
    "RTdiffAgg = RTdiffAgg.reset_index()\n",
    "\n",
    "\n",
    "\n",
    "ttestResults = sp.stats.ttest_rel(T1, T2)\n",
    "print(ttestResults)"
   ]
  },
  {
   "cell_type": "code",
   "execution_count": null,
   "metadata": {},
   "outputs": [],
   "source": [
    "dfO['Delay'] == 2000.0"
   ]
  },
  {
   "cell_type": "code",
   "execution_count": null,
   "metadata": {},
   "outputs": [],
   "source": [
    "# Reaction time\n",
    "grouped = dfO.groupby(['nRep', 'subCode', 'Condition'])\n",
    "grouped_RT = grouped['MoveOnset']\n",
    "aggRTdata = grouped_RT.agg(['mean', 'std', 'min', 'max']).reset_index()\n",
    "sb.factorplot(x = 'nRep' , y = 'mean', data = aggRTdata, hue = 'Condition', palette = 'Blues')\n",
    "\n",
    "\n",
    "grouped = dfO[dfO['Delay'] == 2000.0].groupby(['nRep', 'subCode', 'Condition'])\n",
    "grouped_RT = grouped['MoveOnset']\n",
    "aggRTdata = grouped_RT.agg(['mean', 'std', 'min', 'max']).reset_index()\n",
    "sb.factorplot(x = 'nRep' , y = 'mean', data = aggRTdata, hue = 'Condition', palette = 'Blues')\n",
    "\n",
    "grouped = dfO[dfO['Delay'] == 3200.0].groupby(['nRep', 'subCode', 'Condition'])\n",
    "grouped_RT = grouped['MoveOnset']\n",
    "aggRTdata = grouped_RT.agg(['mean', 'std', 'min', 'max']).reset_index()\n",
    "sb.factorplot(x = 'nRep' , y = 'mean', data = aggRTdata, hue = 'Condition', palette = 'Blues')\n",
    "\n",
    "\n",
    "grouped = dfO.groupby(['Delay', 'subCode', 'Condition'])\n",
    "grouped_RT = grouped['MoveOnset']\n",
    "aggRTdata = grouped_RT.agg(['mean', 'std', 'min', 'max']).reset_index()\n",
    "sb.factorplot(x = 'Delay' , y = 'mean', data = aggRTdata, hue = 'Condition', palette = 'Blues')\n",
    "\n",
    "grouped = dfO[dfO['MoveOnset']> 100].groupby(['Delay', 'subCode', 'Condition'])\n",
    "grouped_RT = grouped['MoveOnset']\n",
    "aggRTdata = grouped_RT.agg(['mean', 'std', 'min', 'max']).reset_index()\n",
    "sb.factorplot(x = 'Delay' , y = 'mean', data = aggRTdata, hue = 'Condition', palette = 'Blues')"
   ]
  },
  {
   "cell_type": "code",
   "execution_count": null,
   "metadata": {},
   "outputs": [],
   "source": [
    "# Reaction time\n",
    "grouped = dfO.groupby([ 'subCode', 'Condition', 'Delay'])\n",
    "grouped_RT = grouped['targetDistance']\n",
    "aggRTdata = grouped_RT.agg(['mean', 'std', 'min', 'max']).reset_index()\n",
    "sb.factorplot(x = 'Delay' , y = 'mean', data = aggRTdata, hue = 'Condition', palette = 'Purples')"
   ]
  },
  {
   "cell_type": "code",
   "execution_count": null,
   "metadata": {},
   "outputs": [],
   "source": [
    "# Reaction time\n",
    "grouped = dfO.groupby(['nRep', 'subCode', 'Condition'])\n",
    "grouped_RT = grouped['RTselec1']\n",
    "aggRTdata = grouped_RT.agg(['mean', 'std', 'min', 'max']).reset_index()\n",
    "sb.factorplot(x = 'nRep' , y = 'mean', data = aggRTdata, hue = 'Condition', palette = 'Blues')\n",
    "\n",
    "# Reaction time\n",
    "grouped = dfO.groupby(['Delay', 'subCode', 'Condition'])\n",
    "grouped_RT = grouped['RTselec1']\n",
    "aggRTdata = grouped_RT.agg(['mean', 'std', 'min', 'max']).reset_index()\n",
    "sb.factorplot(x = 'Delay' , y = 'mean', data = aggRTdata, hue = 'Condition', palette = 'Blues')\n",
    "\n",
    "#Precision\n",
    "groupedP = dfO.groupby(['nRep', 'subCode', 'Condition'])\n",
    "grouped_P = groupedP['correct']\n",
    "aggPrecdata = grouped_P.agg(['mean', 'std', 'min', 'max']).reset_index()\n",
    "sb.factorplot(x = 'nRep' , y = 'mean', data = aggPrecdata, hue = 'Condition', palette = 'Reds')"
   ]
  },
  {
   "cell_type": "code",
   "execution_count": null,
   "metadata": {},
   "outputs": [],
   "source": [
    "from statsmodels.stats.anova import AnovaRM\n",
    "\n",
    "groupID = df[df['RT']<1200].groupby(['Delay', 'Condition', 'subCode'])\n",
    "AccdiffGr = groupID['correct']\n",
    "AccdiffAgg = AccdiffGr.agg(['mean']).reset_index()\n",
    "aovrm = AnovaRM(AccdiffAgg, 'mean', 'subCode', within=['Delay', 'Condition'])\n",
    "res = aovrm.fit()\n",
    "print(res)"
   ]
  },
  {
   "cell_type": "code",
   "execution_count": null,
   "metadata": {},
   "outputs": [],
   "source": []
  },
  {
   "cell_type": "code",
   "execution_count": null,
   "metadata": {},
   "outputs": [],
   "source": [
    "from statsmodels.stats.anova import AnovaRM\n",
    "indexCorrect = (df['correct'] == 1) & (df['RT']< 1200)\n",
    "groupID = df[indexCorrect].groupby(['Delay', 'Condition', 'subCode'])\n",
    "RTdiffGr = groupID['RT']\n",
    "RTdiffAgg = RTdiffGr.agg(['mean']).reset_index()\n",
    "aovrmRT = AnovaRM(RTdiffAgg, 'mean', 'subCode', within=['Delay', 'Condition'])\n",
    "resRT = aovrmRT.fit()\n",
    "print(resRT)"
   ]
  },
  {
   "cell_type": "code",
   "execution_count": null,
   "metadata": {},
   "outputs": [],
   "source": [
    "import statsmodels\n",
    "statsmodels.__version__\n"
   ]
  },
  {
   "cell_type": "code",
   "execution_count": null,
   "metadata": {},
   "outputs": [],
   "source": [
    "indexGroup = np.zeros(len(df))\n",
    "indexGroup = (df['Delay'] == 5000.0)*(df['Condition'] == 'random')*(df['subCode'] == 2)\n",
    "df[indexGroup]"
   ]
  },
  {
   "cell_type": "code",
   "execution_count": null,
   "metadata": {},
   "outputs": [],
   "source": [
    "%matplotlib inline\n",
    "#RT by validity\n",
    "grouped = df[df['correct'] == 1.0].groupby(['Delay', 'subCode', 'Condition'])\n",
    "grouped_RT = grouped['RT']\n",
    "aggRTdata = grouped_RT.agg(['mean', 'std', 'min', 'max']).reset_index()\n",
    "sb.factorplot(x = 'Delay' , y = 'mean', data = aggRTdata, hue = 'Condition', hue_order = ['random', 'predicted'], palette = 'Blues')\n",
    "\n",
    "#Precision\n",
    "groupedP = df.groupby(['Delay', 'subCode', 'Condition'])\n",
    "grouped_P = groupedP['correct']\n",
    "aggPrecdata = grouped_P.agg(['mean', 'std', 'min', 'max']).reset_index()\n",
    "sb.factorplot(x = 'Delay' , y = 'mean', data = aggPrecdata, hue = 'Condition', hue_order = ['random', 'predicted'], palette = 'Reds')\n",
    "\n"
   ]
  },
  {
   "cell_type": "code",
   "execution_count": null,
   "metadata": {},
   "outputs": [],
   "source": [
    "# Check performance on individual scenes\n",
    "\n",
    "%matplotlib inline\n",
    "#RT by validity\n",
    "grouped = df[df['correct'] == 1.0].groupby(['Scene', 'subCode'])\n",
    "grouped_RT = grouped['RT']\n",
    "aggRTdata = grouped_RT.agg(['mean', 'std', 'min', 'max']).reset_index()\n",
    "sb.factorplot(x = 'Scene' , y = 'mean', data = aggRTdata, palette = 'Blues')\n",
    "\n",
    "fig1 = plt.gcf() \n",
    "fig1.set_size_inches(25,8)\n",
    "\n",
    "#Precision\n",
    "groupedP = df.groupby(['Scene', 'subCode'])\n",
    "grouped_P = groupedP['correct']\n",
    "aggPrecdata = grouped_P.agg(['mean', 'std', 'min', 'max']).reset_index()\n",
    "sb.factorplot(x = 'Scene' , y = 'mean', data = aggPrecdata, palette = 'Reds')\n",
    "\n",
    "fig = plt.gcf() \n",
    "fig.set_size_inches(25,8)\n"
   ]
  },
  {
   "cell_type": "code",
   "execution_count": null,
   "metadata": {
    "scrolled": true
   },
   "outputs": [],
   "source": [
    "#By subject\n",
    "%matplotlib inline\n",
    "#RT by validity\n",
    "grouped = df[df['correct'] == 1.0].groupby(['Delay', 'subCode', 'Condition'])\n",
    "grouped_RT = grouped['RT']\n",
    "aggRTdata = grouped_RT.agg(['mean', 'std', 'min', 'max']).reset_index()\n",
    "sb.factorplot(x = 'Condition' , y = 'mean', data = aggRTdata, hue = 'subCode', col = 'Delay')\n",
    "\n",
    "#Precision\n",
    "groupedP = df.groupby(['Delay', 'subCode', 'Condition'])\n",
    "grouped_P = groupedP['correct']\n",
    "aggPrecdata = grouped_P.agg(['mean', 'std', 'min', 'max']).reset_index()\n",
    "sb.factorplot(x = 'Condition' , y = 'mean', data = aggPrecdata, hue = 'subCode', col = 'Delay')\n",
    "\n",
    "\n"
   ]
  },
  {
   "cell_type": "code",
   "execution_count": null,
   "metadata": {},
   "outputs": [],
   "source": [
    "# Check performance on individual scenes -- plot it by condition\n",
    "\n",
    "%matplotlib inline\n",
    "#RT by validity\n",
    "grouped = df[df['correct'] == 1.0].groupby(['Scene', 'subCode', 'Condition'])\n",
    "grouped_RT = grouped['RT']\n",
    "aggRTdata = grouped_RT.agg(['mean', 'std', 'min', 'max']).reset_index()\n",
    "sb.factorplot(x = 'Scene' , y = 'mean', data = aggRTdata, hue = 'Condition',  palette = 'Blues')\n",
    "\n",
    "fig1 = plt.gcf() \n",
    "fig1.set_size_inches(25,8)\n",
    "\n",
    "#Precision\n",
    "groupedP = df.groupby(['Scene', 'subCode', 'Condition'])\n",
    "grouped_P = groupedP['correct']\n",
    "aggPrecdata = grouped_P.agg(['mean', 'std', 'min', 'max']).reset_index()\n",
    "sb.factorplot(x = 'Scene' , y = 'mean', data = aggPrecdata, hue = 'Condition', palette = 'Reds')\n",
    "\n",
    "fig = plt.gcf() \n",
    "fig.set_size_inches(25,8)"
   ]
  },
  {
   "cell_type": "markdown",
   "metadata": {},
   "source": [
    "## Main statistical testing code"
   ]
  },
  {
   "cell_type": "code",
   "execution_count": null,
   "metadata": {},
   "outputs": [],
   "source": [
    "# Use linear mixed effects to check effects of non-relevant variables (scenes/targets etc)\n",
    "import statsmodels.formula.api as smf\n",
    "\n",
    "#dfLME = dfO.dropna(subset = ['pixelError']) # do 'RTselec1' 'MoveOnset' or 'pixelError'\n",
    "dfLME = df\n",
    "dfLME['Scene'] = dfLME['Scene'].astype(str)\n",
    "\n",
    "\n",
    "modelLMERT = smf.mixedlm(\"pixelError1~Condition + targetDistance1\",dfLME, groups = dfLME['subCode'])\n",
    "LMERTFit = modelLMERT.fit()\n",
    "print(LMERTFit.summary())"
   ]
  },
  {
   "cell_type": "code",
   "execution_count": null,
   "metadata": {},
   "outputs": [],
   "source": [
    "# Use linear mixed effects to check effects of non-relevant variables (scenes/targets etc)\n",
    "import statsmodels.formula.api as smf\n",
    "\n",
    "#dfLME = dfO.dropna(subset = ['pixelError']) # do 'RTselec1' 'MoveOnset' or 'pixelError'\n",
    "dfLME = dfO.copy()\n",
    "dfLME['Scene'] = dfLME['Scene'].astype(str)\n",
    "dfLME['Delay'] = dfLME['Delay'].astype(str)\n",
    "#dfLME= dfLME[dfLME['MoveOnset']> 100]\n",
    "\n",
    "\n",
    "modelLMERT = smf.mixedlm(\"pixelError~Condition + targetDistance \",dfLME, groups = dfLME['subCode'])\n",
    "LMERTFit = modelLMERT.fit()\n",
    "print(LMERTFit.summary())"
   ]
  },
  {
   "cell_type": "code",
   "execution_count": null,
   "metadata": {},
   "outputs": [],
   "source": [
    "dfO.columns"
   ]
  },
  {
   "cell_type": "code",
   "execution_count": null,
   "metadata": {},
   "outputs": [],
   "source": [
    "sb.scatterplot(data = dfO, x = 'targetDistance1', y = 'MoveOnset', hue = 'Condition')"
   ]
  },
  {
   "cell_type": "code",
   "execution_count": null,
   "metadata": {},
   "outputs": [],
   "source": [
    "sb.scatterplot(data = dfO, x = 'Target1X', y = 'Target1Y', hue = 'Condition')"
   ]
  },
  {
   "cell_type": "code",
   "execution_count": null,
   "metadata": {},
   "outputs": [],
   "source": [
    "LMERTFit.random_effects"
   ]
  },
  {
   "cell_type": "code",
   "execution_count": null,
   "metadata": {},
   "outputs": [],
   "source": [
    "dfLME.to_csv('DataforLME.csv')"
   ]
  },
  {
   "cell_type": "code",
   "execution_count": null,
   "metadata": {},
   "outputs": [],
   "source": [
    "modelLMEAcc = smf.mixedlm(\"correct~Condition +  Delay\",dfLME, groups = dfLME['Scene'])\n",
    "LMEAccFit = modelLMEAcc.fit()\n",
    "print(LMEAccFit.summary())"
   ]
  },
  {
   "cell_type": "code",
   "execution_count": null,
   "metadata": {},
   "outputs": [],
   "source": [
    "LMEAccFit.random_effects"
   ]
  },
  {
   "cell_type": "code",
   "execution_count": null,
   "metadata": {},
   "outputs": [],
   "source": [
    "smf.mixedlm?"
   ]
  },
  {
   "cell_type": "code",
   "execution_count": null,
   "metadata": {},
   "outputs": [],
   "source": [
    "df['Scene'] = df['Scene'].astype(str)"
   ]
  },
  {
   "cell_type": "code",
   "execution_count": null,
   "metadata": {},
   "outputs": [],
   "source": [
    "df['Scene']"
   ]
  },
  {
   "cell_type": "code",
   "execution_count": null,
   "metadata": {},
   "outputs": [],
   "source": [
    "sb.scatterplot(data = df, x = 'Target1X', y = 'Target1Y', hue = 'Condition')"
   ]
  },
  {
   "cell_type": "code",
   "execution_count": null,
   "metadata": {},
   "outputs": [],
   "source": [
    "sb.scatterplot(data = df, x = 'Target2X', y = 'Target2Y', hue = 'Condition')"
   ]
  },
  {
   "cell_type": "code",
   "execution_count": null,
   "metadata": {},
   "outputs": [],
   "source": [
    "sb.scatterplot(data = df[df['Scene'] == '12'], x = 'Target2X', y = 'Target2Y', hue = 'Condition')"
   ]
  },
  {
   "cell_type": "code",
   "execution_count": null,
   "metadata": {},
   "outputs": [],
   "source": [
    "sb.scatterplot(data = df, y = 'pixelError1', x = 'targetDistance1', hue = 'Condition')"
   ]
  },
  {
   "cell_type": "markdown",
   "metadata": {},
   "source": [
    "# Clustering \n",
    "\n"
   ]
  },
  {
   "cell_type": "code",
   "execution_count": null,
   "metadata": {},
   "outputs": [],
   "source": [
    "# Based on Learning data\n",
    "\n",
    "indP = (df['correct'] == 1.0)&(df['Condition'] == 'predicted')\n",
    "indR = (df['correct'] == 1.0)&(df['Condition'] == 'random')\n",
    "\n",
    "grouped = df[indP].groupby(['subCode'])\n",
    "grouped_sub = grouped[ 'pixelError1', 'pixelError2', 'RTselec1', 'RTselec2', 'RTplace1', 'RTplace2']\n",
    "aggPred = grouped_sub.agg(['mean'])\n",
    "             \n",
    "grouped = df[indR].groupby(['subCode'])\n",
    "grouped_sub = grouped[ 'pixelError1', 'pixelError2', 'RTselec1', 'RTselec2', 'RTplace1', 'RTplace2']\n",
    "aggRand = grouped_sub.agg(['mean'])"
   ]
  },
  {
   "cell_type": "code",
   "execution_count": null,
   "metadata": {},
   "outputs": [],
   "source": [
    " X = aggRand - aggPred\n",
    "X"
   ]
  },
  {
   "cell_type": "code",
   "execution_count": null,
   "metadata": {},
   "outputs": [],
   "source": [
    "# Determine number of clusters\n",
    "from sklearn.cluster import KMeans\n",
    "\n",
    "wcss = []\n",
    "\n",
    "for i in range(1,6):\n",
    "    kmeans = KMeans(n_clusters = i, init = 'k-means++', max_iter = 300, n_init = 10, random_state = 0)\n",
    "    kmeans.fit(X)\n",
    "    wcss.append(kmeans.inertia_)\n",
    "\n",
    "plt.plot(range(1,6), wcss)\n",
    "plt.title('Elbow Method')\n",
    "plt.xlabel('Number of clusters')\n",
    "plt.ylabel('WCSS')\n",
    "plt.show()"
   ]
  },
  {
   "cell_type": "code",
   "execution_count": null,
   "metadata": {},
   "outputs": [],
   "source": [
    "from sklearn.cluster import KMeans\n",
    "\n",
    "kmeans = KMeans(n_clusters = 3, init = 'k-means++', max_iter = 300, n_init= 10, random_state = 0)\n",
    "pred_y = kmeans.fit_predict(X)\n",
    "\n",
    "print(kmeans.labels_)\n",
    "print(kmeans.cluster_centers_)"
   ]
  },
  {
   "cell_type": "code",
   "execution_count": null,
   "metadata": {},
   "outputs": [],
   "source": []
  },
  {
   "cell_type": "code",
   "execution_count": null,
   "metadata": {},
   "outputs": [],
   "source": [
    "# Based on Orienting data\n",
    "\n",
    "indP = (dfO['correct'] == 1.0)&(dfO['Condition'] == 'predicted')\n",
    "indR = (dfO['correct'] == 1.0)&(dfO['Condition'] == 'random')\n",
    "\n",
    "grouped = dfO[indP].groupby(['subCode'])\n",
    "grouped_sub = grouped[ 'pixelError', 'MoveOnset']\n",
    "aggPred = grouped_sub.agg(['mean'])\n",
    "             \n",
    "grouped = dfO[indR].groupby(['subCode'])\n",
    "grouped_sub = grouped[ 'pixelError',  'MoveOnset']\n",
    "aggRand = grouped_sub.agg(['mean'])"
   ]
  },
  {
   "cell_type": "code",
   "execution_count": null,
   "metadata": {},
   "outputs": [],
   "source": [
    "X = aggRand - aggPred\n",
    "Xnorm = X.copy()\n",
    "a = X['pixelError']['mean']\n",
    "Xnorm['pixelError']['mean'] =  [(float(i)-min(a))/(max(a)-min(a)) for i in a]\n",
    "\n",
    "#a = X['RTselec1']['mean']\n",
    "#Xnorm['RTselec1']['mean'] =  [(float(i)-min(a))/(max(a)-min(a)) for i in a]\n",
    "\n",
    "a = X['MoveOnset']['mean']\n",
    "Xnorm['MoveOnset']['mean'] =  [(float(i)-min(a))/(max(a)-min(a)) for i in a]\n",
    "\n",
    "print(Xnorm)"
   ]
  },
  {
   "cell_type": "code",
   "execution_count": null,
   "metadata": {},
   "outputs": [],
   "source": [
    "# Determine number of clusters\n",
    "from sklearn.cluster import KMeans\n",
    "\n",
    "wcss = []\n",
    "\n",
    "for i in range(1,10):\n",
    "    kmeans = KMeans(n_clusters = i, init = 'k-means++', max_iter = 300, n_init = 10, random_state = 0)\n",
    "    kmeans.fit(Xnorm)\n",
    "    wcss.append(kmeans.inertia_)\n",
    "\n",
    "plt.plot(range(1,10), wcss)\n",
    "plt.title('Elbow Method')\n",
    "plt.xlabel('Number of clusters')\n",
    "plt.ylabel('WCSS')\n",
    "plt.show()"
   ]
  },
  {
   "cell_type": "code",
   "execution_count": null,
   "metadata": {},
   "outputs": [],
   "source": [
    "from sklearn.cluster import KMeans\n",
    "\n",
    "kmeans = KMeans(n_clusters = 2, init = 'k-means++', max_iter = 300, n_init= 10, random_state = 0)\n",
    "pred_y = kmeans.fit_predict(Xnorm)\n",
    "\n",
    "print(kmeans.labels_)\n",
    "print(kmeans.cluster_centers_)"
   ]
  },
  {
   "cell_type": "code",
   "execution_count": null,
   "metadata": {},
   "outputs": [],
   "source": [
    "plt.scatter(Xnorm['pixelError']['mean'], Xnorm['RTselec1']['mean'])\n",
    "plt.scatter(kmeans.cluster_centers_[:, 0], kmeans.cluster_centers_[:, 1], s=300, c='red')\n",
    "plt.show()"
   ]
  },
  {
   "cell_type": "code",
   "execution_count": null,
   "metadata": {},
   "outputs": [],
   "source": [
    "plt.scatter(Xnorm['MoveOnset']['mean'], Xnorm['RTselec1']['mean'])\n",
    "plt.scatter(kmeans.cluster_centers_[:, 2], kmeans.cluster_centers_[:, 1], s=300, c='red')\n",
    "plt.show()"
   ]
  },
  {
   "cell_type": "code",
   "execution_count": null,
   "metadata": {},
   "outputs": [],
   "source": [
    "plt.scatter(Xnorm['pixelError']['mean'], Xnorm['MoveOnset']['mean'])\n",
    "plt.scatter(kmeans.cluster_centers_[:, 0], kmeans.cluster_centers_[:, 1], s=300, c='red')\n",
    "plt.show()"
   ]
  },
  {
   "cell_type": "code",
   "execution_count": null,
   "metadata": {},
   "outputs": [],
   "source": [
    "# plot data according to clusters\n",
    "subs = [1,2,3,4,5,6,7,9,10,11,12,13,14,15,16,17,18,19,20, 21, 22, 23, 24, 25, 26, 27, 28]\n",
    "ind1 = kmeans.labels_ == 0\n",
    "ind2 = kmeans.labels_ == 1\n",
    "ind3 = kmeans.labels_ == 2\n",
    "\n",
    "dfO"
   ]
  },
  {
   "cell_type": "code",
   "execution_count": null,
   "metadata": {},
   "outputs": [],
   "source": [
    "dfO.loc[dfO['subCode'].isin(ind1*subs)]"
   ]
  },
  {
   "cell_type": "code",
   "execution_count": null,
   "metadata": {},
   "outputs": [],
   "source": [
    "grouped = dfO.loc[dfO['subCode'].isin(ind1*subs)].groupby(['Condition', 'Delay', 'subCode'])\n",
    "grouped_pix = grouped['pixelError']\n",
    "aggPixdata = grouped_pix.agg(['mean']).reset_index()\n",
    "sb.factorplot(x = 'Delay' , y = 'mean', data = aggPixdata,hue = 'Condition', palette = 'Greens')#, c\n",
    "\n",
    "grouped = dfO.loc[dfO['subCode'].isin(ind1*subs)].groupby(['Condition', 'Delay', 'subCode'])\n",
    "grouped_pix = grouped['MoveOnset']\n",
    "aggPixdata = grouped_pix.agg(['mean']).reset_index()\n",
    "sb.factorplot(x = 'Delay' , y = 'mean', data = aggPixdata,hue = 'Condition', palette = 'Blues')#, col\n",
    "\n",
    "# Test pixelerror difference\n",
    "#indexCorrect = (dfO['correct1'] == 1) \n",
    "groupID = dfO.loc[dfO['subCode'].isin(ind1*subs)].groupby([ 'Condition', 'subCode'])\n",
    "RTdiffGr = groupID['pixelError']\n",
    "RTdiffAgg = RTdiffGr.agg(['mean'])\n",
    "\n",
    "T1 = RTdiffAgg.loc[(  [\"predicted\"]), 'mean']\n",
    "T2 = RTdiffAgg.loc[(  [\"random\"]), 'mean']\n",
    "RTdiffAgg = RTdiffAgg.reset_index()\n",
    "\n",
    "\n",
    "\n",
    "ttestResults = sp.stats.ttest_rel(T1, T2)\n",
    "print(ttestResults)"
   ]
  },
  {
   "cell_type": "code",
   "execution_count": null,
   "metadata": {},
   "outputs": [],
   "source": [
    "grouped = dfO.loc[dfO['subCode'].isin(ind2*subs)].groupby(['Condition', 'Delay', 'subCode'])\n",
    "grouped_pix = grouped['pixelError']\n",
    "aggPixdata = grouped_pix.agg(['mean']).reset_index()\n",
    "sb.factorplot(x = 'Delay' , y = 'mean', data = aggPixdata,hue = 'Condition', palette = 'Greens')#, col\n",
    "\n",
    "grouped = dfO.loc[dfO['subCode'].isin(ind2*subs)].groupby(['Condition', 'Delay', 'subCode'])\n",
    "grouped_pix = grouped['MoveOnset']\n",
    "aggPixdata = grouped_pix.agg(['mean']).reset_index()\n",
    "sb.factorplot(x = 'Delay' , y = 'mean', data = aggPixdata,hue = 'Condition', palette = 'Blues')#, col\n",
    "\n",
    "# Test pixelerror difference\n",
    "#indexCorrect = (dfO['correct1'] == 1) \n",
    "groupID = dfO.loc[dfO['subCode'].isin(ind2*subs)].groupby([ 'Condition', 'subCode'])\n",
    "RTdiffGr = groupID['pixelError']\n",
    "RTdiffAgg = RTdiffGr.agg(['mean'])\n",
    "\n",
    "T1 = RTdiffAgg.loc[(  [\"predicted\"]), 'mean']\n",
    "T2 = RTdiffAgg.loc[(  [\"random\"]), 'mean']\n",
    "RTdiffAgg = RTdiffAgg.reset_index()\n",
    "\n",
    "\n",
    "\n",
    "ttestResults = sp.stats.ttest_rel(T1, T2)\n",
    "print(ttestResults)"
   ]
  },
  {
   "cell_type": "code",
   "execution_count": null,
   "metadata": {},
   "outputs": [],
   "source": [
    "grouped = dfO.loc[dfO['subCode'].isin(ind3*subs)].groupby(['Condition', 'Delay', 'subCode'])\n",
    "grouped_pix = grouped['pixelError']\n",
    "aggPixdata = grouped_pix.agg(['mean']).reset_index()\n",
    "sb.factorplot(x = 'Delay' , y = 'mean', data = aggPixdata,hue = 'Condition', palette = 'Greens')#, col\n",
    "\n",
    "grouped = dfO.loc[dfO['subCode'].isin(ind3*subs)].groupby(['Condition', 'Delay', 'subCode'])\n",
    "grouped_pix = grouped['MoveOnset']\n",
    "aggPixdata = grouped_pix.agg(['mean']).reset_index()\n",
    "sb.factorplot(x = 'Delay' , y = 'mean', data = aggPixdata,hue = 'Condition', palette = 'Blues')#, col\n",
    "\n",
    "# Test pixelerror difference\n",
    "#indexCorrect = (dfO['correct1'] == 1) \n",
    "groupID = dfO.loc[dfO['subCode'].isin(ind3*subs)].groupby([ 'Condition', 'subCode'])\n",
    "RTdiffGr = groupID['pixelError']\n",
    "RTdiffAgg = RTdiffGr.agg(['mean'])\n",
    "\n",
    "T1 = RTdiffAgg.loc[(  [\"predicted\"]), 'mean']\n",
    "T2 = RTdiffAgg.loc[(  [\"random\"]), 'mean']\n",
    "RTdiffAgg = RTdiffAgg.reset_index()\n",
    "\n",
    "\n",
    "\n",
    "ttestResults = sp.stats.ttest_rel(T1, T2)\n",
    "print(ttestResults)"
   ]
  },
  {
   "cell_type": "code",
   "execution_count": null,
   "metadata": {},
   "outputs": [],
   "source": []
  }
 ],
 "metadata": {
  "kernelspec": {
   "display_name": "Python 3",
   "language": "python",
   "name": "python3"
  },
  "language_info": {
   "codemirror_mode": {
    "name": "ipython",
    "version": 3
   },
   "file_extension": ".py",
   "mimetype": "text/x-python",
   "name": "python",
   "nbconvert_exporter": "python",
   "pygments_lexer": "ipython3",
   "version": "3.7.3"
  }
 },
 "nbformat": 4,
 "nbformat_minor": 2
}
