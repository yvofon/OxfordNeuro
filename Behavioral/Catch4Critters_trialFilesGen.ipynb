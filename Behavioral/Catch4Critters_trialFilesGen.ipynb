{
 "cells": [
  {
   "cell_type": "code",
   "execution_count": 1,
   "metadata": {},
   "outputs": [],
   "source": [
    "## Script to generate randomized txt files for Catch the critter - Long experiment"
   ]
  },
  {
   "cell_type": "code",
   "execution_count": 2,
   "metadata": {},
   "outputs": [],
   "source": [
    "# Create a txt file with tab delimited numbers as follows (36 long, 0's for random trials)\n",
    "# targetID1 targetID2 xloc1 yloc1 xloc2 yloc2 delay1 delay2\n",
    "# target ID can be 1,2,3\n",
    "# x, y random pick between 100-400 [check this with presentation script], balanced by visual field (also within a trial one on each side)\n",
    "# delay can be 2000, 3200, 5000, needs to be balanced"
   ]
  },
  {
   "cell_type": "code",
   "execution_count": 3,
   "metadata": {},
   "outputs": [],
   "source": [
    "import numpy as np\n",
    "import pandas as pd\n"
   ]
  },
  {
   "cell_type": "code",
   "execution_count": 4,
   "metadata": {},
   "outputs": [],
   "source": [
    "# Pixel value range\n",
    "x = [100, 350]\n",
    "\n",
    "\n",
    "# Set up coordinates and balance\n",
    "balanceLR = np.array([1,1,1,1,1,1,1,1,1,1,1,1, -1,-1,-1,-1,-1,-1,-1,-1, -1, -1, -1, -1])\n",
    "balanceHL1 = np.array([1,1,1,1,1,1,1,1,1,1,1,1, -1,-1,-1,-1,-1,-1,-1,-1, -1, -1, -1, -1])\n",
    "balanceHL2 = np.array([1,1,1,1,1,1,1,1,1,1,1,1, -1,-1,-1,-1,-1,-1,-1,-1, -1, -1, -1, -1])\n",
    "\n",
    "np.random.shuffle(balanceLR)\n",
    "np.random.shuffle(balanceHL1)\n",
    "np.random.shuffle(balanceHL2)\n",
    "\n",
    "balanceLR1 = balanceLR\n",
    "balanceLR2 = -1*balanceLR\n",
    "\n",
    "# draw random values \n",
    "randX1 = np.around((np.random.rand(24)*(x[1]-x[0]) + x[0])*balanceLR1, decimals = 0)\n",
    "randX2 = np.around((np.random.rand(24)*(x[1]-x[0]) + x[0])*balanceLR2, decimals = 0)\n",
    "randY1 = np.around((np.random.rand(24)*(x[1]-x[0]) + x[0])*balanceHL1, decimals = 0)\n",
    "randY2 = np.around((np.random.rand(24)*(x[1]-x[0]) + x[0])*balanceHL2, decimals = 0)"
   ]
  },
  {
   "cell_type": "code",
   "execution_count": 5,
   "metadata": {},
   "outputs": [],
   "source": [
    "# Target identity\n",
    "tmpID = np.matrix('1,2; 1, 3; 1,4 ; 2, 1; 2, 3; 2, 4; 3, 1; 3, 2;, 3, 4; 4, 1; 4, 2; 4, 3')\n",
    "targetID = np.tile(tmpID, (2,1)) # 24 total\n",
    "\n",
    "#Set up delays matrix and randomize\n",
    "tmpD = np.matrix('2000, 3200')\n",
    "delays = np.repeat(tmpD, 24, axis = 0)\n",
    "\n",
    "rng_state = np.random.get_state()\n",
    "np.random.shuffle(delays)\n",
    "np.random.set_state(rng_state)\n",
    "np.random.shuffle(targetID) # not really relevant anymore but leaving it in in case we change the time-windows again\n",
    "#np.random.shuffle(delays)\n",
    "#np.random.shuffle(targetID)\n"
   ]
  },
  {
   "cell_type": "code",
   "execution_count": 6,
   "metadata": {},
   "outputs": [
    {
     "data": {
      "text/plain": [
       "matrix([[1, 3],\n",
       "        [3, 1],\n",
       "        [4, 2],\n",
       "        [3, 1],\n",
       "        [2, 3],\n",
       "        [4, 1],\n",
       "        [4, 1],\n",
       "        [3, 2],\n",
       "        [1, 2],\n",
       "        [1, 4],\n",
       "        [2, 4],\n",
       "        [1, 2],\n",
       "        [4, 3],\n",
       "        [2, 1],\n",
       "        [1, 3],\n",
       "        [2, 4],\n",
       "        [4, 3],\n",
       "        [4, 2],\n",
       "        [3, 4],\n",
       "        [2, 3],\n",
       "        [1, 4],\n",
       "        [3, 4],\n",
       "        [2, 1],\n",
       "        [3, 2]])"
      ]
     },
     "execution_count": 6,
     "metadata": {},
     "output_type": "execute_result"
    }
   ],
   "source": [
    "targetID"
   ]
  },
  {
   "cell_type": "code",
   "execution_count": 7,
   "metadata": {
    "scrolled": true
   },
   "outputs": [],
   "source": [
    "# Generate random vs predictable trials\n",
    "\n",
    "randScenes = np.array([0,1])\n",
    "randScenes = np.repeat(randScenes, 24)\n",
    "np.random.shuffle(randScenes)"
   ]
  },
  {
   "cell_type": "code",
   "execution_count": 8,
   "metadata": {},
   "outputs": [
    {
     "name": "stdout",
     "output_type": "stream",
     "text": [
      "[[   0    0    0    0    0    0    0    0]\n",
      " [   1    3  259 -162 -309  334 2000 3200]\n",
      " [   0    0    0    0    0    0    0    0]\n",
      " [   3    1 -163 -307  130  180 2000 3200]\n",
      " [   4    2 -172  175  156  302 2000 3200]\n",
      " [   0    0    0    0    0    0    0    0]\n",
      " [   3    1  234  345 -270  127 2000 3200]\n",
      " [   2    3 -107  263  151 -163 2000 3200]\n",
      " [   4    1 -207 -177  117 -133 2000 3200]\n",
      " [   0    0    0    0    0    0    0    0]\n",
      " [   4    1 -331  338  224  174 2000 3200]\n",
      " [   0    0    0    0    0    0    0    0]\n",
      " [   0    0    0    0    0    0    0    0]\n",
      " [   3    2 -127  219  133  284 2000 3200]\n",
      " [   1    2  293  219 -101  229 2000 3200]\n",
      " [   0    0    0    0    0    0    0    0]\n",
      " [   0    0    0    0    0    0    0    0]\n",
      " [   0    0    0    0    0    0    0    0]\n",
      " [   0    0    0    0    0    0    0    0]\n",
      " [   1    4  158  183 -312  104 2000 3200]\n",
      " [   2    4  257  330 -332 -281 2000 3200]\n",
      " [   1    2  118  117 -205  343 2000 3200]\n",
      " [   4    3 -268  243  247 -131 2000 3200]\n",
      " [   0    0    0    0    0    0    0    0]\n",
      " [   2    1 -201 -276  183 -276 2000 3200]\n",
      " [   0    0    0    0    0    0    0    0]\n",
      " [   1    3  167 -114 -120 -227 2000 3200]\n",
      " [   0    0    0    0    0    0    0    0]\n",
      " [   2    4  200 -145 -173 -338 2000 3200]\n",
      " [   0    0    0    0    0    0    0    0]\n",
      " [   4    3 -121  116  181  114 2000 3200]\n",
      " [   0    0    0    0    0    0    0    0]\n",
      " [   4    2  123 -327 -228 -188 2000 3200]\n",
      " [   0    0    0    0    0    0    0    0]\n",
      " [   3    4 -126  232  316 -213 2000 3200]\n",
      " [   0    0    0    0    0    0    0    0]\n",
      " [   0    0    0    0    0    0    0    0]\n",
      " [   2    3 -250 -262  313 -116 2000 3200]\n",
      " [   0    0    0    0    0    0    0    0]\n",
      " [   1    4  105 -156 -246 -151 2000 3200]\n",
      " [   3    4 -277 -186  324  140 2000 3200]\n",
      " [   0    0    0    0    0    0    0    0]\n",
      " [   2    1  155 -292 -112 -239 2000 3200]\n",
      " [   0    0    0    0    0    0    0    0]\n",
      " [   0    0    0    0    0    0    0    0]\n",
      " [   0    0    0    0    0    0    0    0]\n",
      " [   0    0    0    0    0    0    0    0]\n",
      " [   3    2  195 -327 -195  152 2000 3200]]\n"
     ]
    }
   ],
   "source": [
    "# generate final matrix\n",
    "num = 0\n",
    "trialInfo = np.zeros((48, 8))\n",
    "for i in range(48):\n",
    "    if randScenes[i]:\n",
    "        trialInfo[i, 0] = targetID[num, 0]\n",
    "        trialInfo[i, 1] = targetID[num, 1]\n",
    "        trialInfo[i, 2] = randX1[num]\n",
    "        trialInfo[i, 3] = randY1[num]\n",
    "        trialInfo[i, 4] = randX2[num]\n",
    "        trialInfo[i, 5] = randY2[num]\n",
    "        trialInfo[i, 6] = delays[num, 0]\n",
    "        trialInfo[i, 7] = delays[num, 1]\n",
    "        num += 1\n",
    "#np.around(trialInfo, decimals = 0)\n",
    "trialInfo.astype(int)\n",
    "print(trialInfo.astype(int))\n"
   ]
  },
  {
   "cell_type": "code",
   "execution_count": 9,
   "metadata": {},
   "outputs": [],
   "source": [
    "# save file\n",
    "\n",
    "np.savetxt('4targetParams20.txt', trialInfo, delimiter = '\\t', fmt = '%i')"
   ]
  },
  {
   "cell_type": "code",
   "execution_count": 10,
   "metadata": {},
   "outputs": [
    {
     "data": {
      "text/plain": [
       "(48, 8)"
      ]
     },
     "execution_count": 10,
     "metadata": {},
     "output_type": "execute_result"
    }
   ],
   "source": [
    "trialInfo.shape"
   ]
  },
  {
   "cell_type": "code",
   "execution_count": 11,
   "metadata": {},
   "outputs": [
    {
     "data": {
      "text/plain": [
       "24"
      ]
     },
     "execution_count": 11,
     "metadata": {},
     "output_type": "execute_result"
    }
   ],
   "source": [
    "num"
   ]
  },
  {
   "cell_type": "code",
   "execution_count": null,
   "metadata": {},
   "outputs": [],
   "source": []
  }
 ],
 "metadata": {
  "kernelspec": {
   "display_name": "Python 3",
   "language": "python",
   "name": "python3"
  },
  "language_info": {
   "codemirror_mode": {
    "name": "ipython",
    "version": 3
   },
   "file_extension": ".py",
   "mimetype": "text/x-python",
   "name": "python",
   "nbconvert_exporter": "python",
   "pygments_lexer": "ipython3",
   "version": "3.7.3"
  }
 },
 "nbformat": 4,
 "nbformat_minor": 2
}
