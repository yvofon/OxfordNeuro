{
 "cells": [
  {
   "cell_type": "code",
   "execution_count": 1,
   "metadata": {},
   "outputs": [],
   "source": [
    "## Script to generate randomized txt files for Catch the critter - Long experiment"
   ]
  },
  {
   "cell_type": "code",
   "execution_count": 2,
   "metadata": {},
   "outputs": [],
   "source": [
    "# Create a txt file with tab delimited numbers as follows (36 long, 0's for random trials)\n",
    "# targetID1 targetID2 xloc1 yloc1 xloc2 yloc2 delay1 delay2\n",
    "# target ID can be 1,2,3\n",
    "# x, y random pick between 100-400 [check this with presentation script], balanced by visual field (also within a trial one on each side)\n",
    "# delay can be 2000, 3200, 5000, needs to be balanced"
   ]
  },
  {
   "cell_type": "code",
   "execution_count": 3,
   "metadata": {},
   "outputs": [],
   "source": [
    "import numpy as np\n",
    "import pandas as pd\n",
    "\n",
    "paramNum = '20'"
   ]
  },
  {
   "cell_type": "code",
   "execution_count": 4,
   "metadata": {},
   "outputs": [],
   "source": [
    "# Pixel value range\n",
    "x = [100, 350]\n",
    "\n",
    "\n",
    "# Set up coordinates and balance\n",
    "balanceLR = np.array([1,1,1,1,1,1, -1,-1,-1,-1,-1,-1,])\n",
    "balanceHL1 = np.array([1,1,1,1,1,1, -1,-1,-1,-1,-1,-1])\n",
    "balanceHL2 = np.array([1,1,1,1,1,1, -1,-1,-1,-1,-1,-1])\n",
    "\n",
    "np.random.shuffle(balanceLR)\n",
    "np.random.shuffle(balanceHL1)\n",
    "np.random.shuffle(balanceHL2)\n",
    "\n",
    "balanceLR1 = balanceLR\n",
    "balanceLR2 = -1*balanceLR\n",
    "\n",
    "# draw random values \n",
    "randX1 = np.around((np.random.rand(12)*(x[1]-x[0]) + x[0])*balanceLR1, decimals = 0)\n",
    "randX2 = np.around((np.random.rand(12)*(x[1]-x[0]) + x[0])*balanceLR2, decimals = 0)\n",
    "randY1 = np.around((np.random.rand(12)*(x[1]))*balanceHL1, decimals = 0)\n",
    "randY2 = np.around((np.random.rand(12)*(x[1]))*balanceHL2, decimals = 0)"
   ]
  },
  {
   "cell_type": "code",
   "execution_count": 5,
   "metadata": {},
   "outputs": [],
   "source": [
    "# Target identity\n",
    "tmpID = np.matrix('1,2; 1, 3; 1,4 ; 2, 1; 2, 3; 2, 4; 3, 1; 3, 2; 3, 4; 4, 1; 4, 2; 4, 3')\n",
    "targetID = tmpID#np.tile(tmpID, (2,1)) # 24 total\n",
    "\n",
    "#Set up delays matrix and randomize\n",
    "tmpD = np.matrix('2000, 3200')\n",
    "delays = np.repeat(tmpD, 12, axis = 0)\n",
    "\n",
    "rng_state = np.random.get_state()\n",
    "np.random.shuffle(delays)\n",
    "np.random.set_state(rng_state)\n",
    "np.random.shuffle(targetID) # not really relevant anymore but leaving it in in case we change the time-windows again\n",
    "#np.random.shuffle(delays)\n",
    "#np.random.shuffle(targetID)\n"
   ]
  },
  {
   "cell_type": "code",
   "execution_count": 6,
   "metadata": {},
   "outputs": [
    {
     "data": {
      "text/plain": [
       "matrix([[1, 4],\n",
       "        [4, 2],\n",
       "        [2, 4],\n",
       "        [2, 1],\n",
       "        [3, 2],\n",
       "        [3, 4],\n",
       "        [4, 3],\n",
       "        [1, 2],\n",
       "        [2, 3],\n",
       "        [4, 1],\n",
       "        [3, 1],\n",
       "        [1, 3]])"
      ]
     },
     "execution_count": 6,
     "metadata": {},
     "output_type": "execute_result"
    }
   ],
   "source": [
    "targetID"
   ]
  },
  {
   "cell_type": "code",
   "execution_count": 7,
   "metadata": {
    "scrolled": true
   },
   "outputs": [],
   "source": [
    "# Generate random vs predictable trials\n",
    "\n",
    "randScenes = np.array([0,1])\n",
    "randScenes = np.repeat(randScenes, 12)\n",
    "np.random.shuffle(randScenes)"
   ]
  },
  {
   "cell_type": "code",
   "execution_count": 8,
   "metadata": {},
   "outputs": [
    {
     "data": {
      "text/plain": [
       "array([1, 1, 0, 0, 1, 1, 1, 0, 0, 0, 0, 0, 1, 1, 0, 1, 1, 1, 0, 1, 1, 0,\n",
       "       0, 0])"
      ]
     },
     "execution_count": 8,
     "metadata": {},
     "output_type": "execute_result"
    }
   ],
   "source": [
    "randScenes"
   ]
  },
  {
   "cell_type": "code",
   "execution_count": 9,
   "metadata": {},
   "outputs": [
    {
     "name": "stdout",
     "output_type": "stream",
     "text": [
      "[[   1    4  194 -143 -341  184 2000 3200]\n",
      " [   4    2 -312   59  136  -50 2000 3200]\n",
      " [   0    0    0    0    0    0    0    0]\n",
      " [   0    0    0    0    0    0    0    0]\n",
      " [   2    4 -164    7  140  292 2000 3200]\n",
      " [   2    1  107 -214 -126  233 2000 3200]\n",
      " [   3    2 -320  -93  298  -30 2000 3200]\n",
      " [   0    0    0    0    0    0    0    0]\n",
      " [   0    0    0    0    0    0    0    0]\n",
      " [   0    0    0    0    0    0    0    0]\n",
      " [   0    0    0    0    0    0    0    0]\n",
      " [   0    0    0    0    0    0    0    0]\n",
      " [   3    4  227 -161 -221  307 2000 3200]\n",
      " [   4    3 -233   79  220  299 2000 3200]\n",
      " [   0    0    0    0    0    0    0    0]\n",
      " [   1    2  128 -290 -102  -76 2000 3200]\n",
      " [   2    3 -110  103  331 -249 2000 3200]\n",
      " [   4    1  189  268 -334  124 2000 3200]\n",
      " [   0    0    0    0    0    0    0    0]\n",
      " [   3    1 -297  156  136  -27 2000 3200]\n",
      " [   1    3  149 -138 -172 -340 2000 3200]\n",
      " [   0    0    0    0    0    0    0    0]\n",
      " [   0    0    0    0    0    0    0    0]\n",
      " [   0    0    0    0    0    0    0    0]]\n"
     ]
    }
   ],
   "source": [
    "# generate final matrix\n",
    "num = 0\n",
    "trialInfo = np.zeros((24, 8))\n",
    "for i in range(24):\n",
    "    if randScenes[i]:\n",
    "        trialInfo[i, 0] = targetID[num, 0]\n",
    "        trialInfo[i, 1] = targetID[num, 1]\n",
    "        trialInfo[i, 2] = randX1[num]\n",
    "        trialInfo[i, 3] = randY1[num]\n",
    "        trialInfo[i, 4] = randX2[num]\n",
    "        trialInfo[i, 5] = randY2[num]\n",
    "        trialInfo[i, 6] = delays[num, 0]\n",
    "        trialInfo[i, 7] = delays[num, 1]\n",
    "        num += 1\n",
    "#np.around(trialInfo, decimals = 0)\n",
    "trialInfo.astype(int)\n",
    "print(trialInfo.astype(int))\n"
   ]
  },
  {
   "cell_type": "code",
   "execution_count": 10,
   "metadata": {},
   "outputs": [],
   "source": [
    "# save file\n",
    "\n",
    "np.savetxt('targetParamsP' + paramNum + '.txt', trialInfo, delimiter = '\\t', fmt = '%i')"
   ]
  },
  {
   "cell_type": "code",
   "execution_count": 11,
   "metadata": {},
   "outputs": [
    {
     "name": "stdout",
     "output_type": "stream",
     "text": [
      "[[   2    1 -179  326  341  271 2000 3200]\n",
      " [   2    3  225 -211 -201  290 2000 3200]\n",
      " [   4    1  236   -5 -134  133 2000 3200]\n",
      " [   3    4  142  127 -265  -57 2000 3200]\n",
      " [   3    1 -175 -343  161  261 2000 3200]\n",
      " [   3    2  347  103 -336 -333 2000 3200]\n",
      " [   4    3 -247 -330  262  -62 2000 3200]\n",
      " [   4    2 -346 -337  319 -230 2000 3200]\n",
      " [   2    4 -281  157  150  -61 2000 3200]\n",
      " [   1    3  273   67 -277 -271 2000 3200]\n",
      " [   1    4  293  268 -120  309 2000 3200]\n",
      " [   1    2 -222 -318  253  170 2000 3200]\n",
      " [   3    4  321 -322 -144  246 2000 3200]\n",
      " [   4    1  165 -123 -206 -115 2000 3200]\n",
      " [   3    1 -312  216  230 -252 2000 3200]\n",
      " [   2    1  277  318 -155  299 2000 3200]\n",
      " [   1    3 -200  -28  290 -309 2000 3200]\n",
      " [   2    4 -120 -127  324  296 2000 3200]\n",
      " [   4    3 -189  271  112 -206 2000 3200]\n",
      " [   2    3  303  330 -200  291 2000 3200]\n",
      " [   4    2  300  164 -212 -333 2000 3200]\n",
      " [   1    4 -279  326  158  197 2000 3200]\n",
      " [   3    2  111  -68 -284 -305 2000 3200]\n",
      " [   1    2 -105  -35  148   18 2000 3200]\n",
      " [   4    1 -265  249  289  -46 2000 3200]\n",
      " [   4    3 -285 -269  333   73 2000 3200]\n",
      " [   4    2 -332  -60  218 -264 2000 3200]\n",
      " [   2    4 -223 -337  136 -198 2000 3200]\n",
      " [   2    3  120  322 -308   51 2000 3200]\n",
      " [   3    2  134 -325 -312 -138 2000 3200]\n",
      " [   1    3 -278 -282  253  264 2000 3200]\n",
      " [   1    4  128  136 -186  136 2000 3200]\n",
      " [   2    1  330   76 -169 -247 2000 3200]\n",
      " [   3    1  145   18 -244  200 2000 3200]\n",
      " [   1    2 -342  148  272  145 2000 3200]\n",
      " [   3    4  341 -333 -182 -262 2000 3200]\n",
      " [   1    2  237  236 -176 -121 2000 3200]\n",
      " [   1    4  201 -193 -316  311 2000 3200]\n",
      " [   3    1 -296 -255  295 -217 2000 3200]\n",
      " [   3    2 -211   77  313 -220 2000 3200]\n",
      " [   3    4 -161  278  158  174 2000 3200]\n",
      " [   4    3 -230  277  186 -213 2000 3200]\n",
      " [   4    1  295 -341 -235  111 2000 3200]\n",
      " [   4    2 -120 -337  193  262 2000 3200]\n",
      " [   2    1  214  -30 -318  265 2000 3200]\n",
      " [   1    3 -350   60  195 -254 2000 3200]\n",
      " [   2    3  190  145 -309  270 2000 3200]\n",
      " [   2    4  205  -22 -285 -113 2000 3200]\n",
      " [   3    4  158 -283 -287 -232 2000 3200]\n",
      " [   1    4  336    6 -217 -159 2000 3200]\n",
      " [   2    3  209 -303 -176 -146 2000 3200]\n",
      " [   4    2 -329 -202  297  142 2000 3200]\n",
      " [   2    1  204   -3 -194  290 2000 3200]\n",
      " [   4    1 -160  243  283 -193 2000 3200]\n",
      " [   1    2 -259    3  125   60 2000 3200]\n",
      " [   4    3 -321 -167  102 -123 2000 3200]\n",
      " [   2    4 -252   98  322  204 2000 3200]\n",
      " [   1    3  197  298 -232 -109 2000 3200]\n",
      " [   3    2 -175 -154  225  225 2000 3200]\n",
      " [   3    1  180  101 -106  302 2000 3200]\n",
      " [   2    1  341  141 -311 -160 2000 3200]\n",
      " [   4    2 -346 -205  171  256 2000 3200]\n",
      " [   4    1  349   70 -114   99 2000 3200]\n",
      " [   3    4  167   30 -241   20 2000 3200]\n",
      " [   2    4  165   -4 -340   68 2000 3200]\n",
      " [   1    3 -236   86  178   55 2000 3200]\n",
      " [   3    2 -271   93  190 -181 2000 3200]\n",
      " [   1    4  316  205 -115  295 2000 3200]\n",
      " [   1    2 -141 -134  142 -103 2000 3200]\n",
      " [   3    1 -234 -188  234  -50 2000 3200]\n",
      " [   4    3  276  -24 -242 -336 2000 3200]\n",
      " [   2    3 -332  -27  259 -141 2000 3200]\n",
      " [   2    4  164 -200 -163  -79 2000 3200]\n",
      " [   4    3 -248 -239  288  156 2000 3200]\n",
      " [   3    1  288 -217 -154 -124 2000 3200]\n",
      " [   3    4 -272  298  140  123 2000 3200]\n",
      " [   4    2 -325 -245  149 -318 2000 3200]\n",
      " [   3    2  116 -205 -287   37 2000 3200]\n",
      " [   2    3 -302  168  114  229 2000 3200]\n",
      " [   1    2  308  161 -151 -304 2000 3200]\n",
      " [   1    3  240  343 -163 -348 2000 3200]\n",
      " [   4    1 -124   -4  176  105 2000 3200]\n",
      " [   1    4  274  197 -280   17 2000 3200]\n",
      " [   2    1 -349  199  131  -69 2000 3200]\n",
      " [   1    4  105 -129 -151 -297 2000 3200]\n",
      " [   2    1 -154  275  322   62 2000 3200]\n",
      " [   1    3 -311  -79  140  325 2000 3200]\n",
      " [   3    4  164  233 -112 -347 2000 3200]\n",
      " [   3    2 -276  -62  207  -32 2000 3200]\n",
      " [   2    4 -318  309  191 -181 2000 3200]\n",
      " [   4    2  119  168 -347   14 2000 3200]\n",
      " [   2    3  225 -129 -101   41 2000 3200]\n",
      " [   4    3  278   99 -241  -54 2000 3200]\n",
      " [   3    1 -333 -197  181  153 2000 3200]\n",
      " [   1    2 -233  -87  335 -312 2000 3200]\n",
      " [   4    1  243   26 -278  305 2000 3200]]\n"
     ]
    }
   ],
   "source": [
    "# Create random scene parameter entries: \n",
    "randN = 8 # Number of blocks (always do more than you plan to use) Note to update .txt files when changing block size!\n",
    "trialRand = np.zeros((randN*12, 8))\n",
    "num2 = 0\n",
    "\n",
    "targetRand = targetID\n",
    "\n",
    "for j in range(randN):\n",
    "    # Produce randomized targets and coordinates\n",
    "    np.random.shuffle(balanceLR)\n",
    "    np.random.shuffle(balanceHL1)\n",
    "    np.random.shuffle(balanceHL2)\n",
    "\n",
    "    balanceLR1 = balanceLR\n",
    "    balanceLR2 = -1*balanceLR\n",
    "\n",
    "    # draw random values \n",
    "    randX1r = np.around((np.random.rand(12)*(x[1]-x[0]) + x[0])*balanceLR1, decimals = 0)\n",
    "    randX2r = np.around((np.random.rand(12)*(x[1]-x[0]) + x[0])*balanceLR2, decimals = 0)\n",
    "    randY1r = np.around((np.random.rand(12)*(x[1]) )*balanceHL1, decimals = 0)\n",
    "    randY2r = np.around((np.random.rand(12)*(x[1]) )*balanceHL2, decimals = 0)\n",
    "    \n",
    "    np.random.shuffle(targetRand)\n",
    "    \n",
    "    for k in range(12): \n",
    "        trialRand[num2,0] = targetRand[k,0]\n",
    "        trialRand[num2,1] = targetRand[k,1]\n",
    "        trialRand[num2,2] = randX1r[k]\n",
    "        trialRand[num2,3] = randY1r[k]\n",
    "        trialRand[num2,4] = randX2r[k]\n",
    "        trialRand[num2,5] = randY2r[k]\n",
    "        trialRand[num2,6] = delays[k,0]\n",
    "        trialRand[num2,7] = delays[k,1]\n",
    "        num2 += 1\n",
    "        \n",
    "trialRand.astype(int)\n",
    "print(trialRand.astype(int))"
   ]
  },
  {
   "cell_type": "code",
   "execution_count": 12,
   "metadata": {},
   "outputs": [],
   "source": [
    "np.savetxt('targetRandParamsP'+ paramNum + '.txt', trialRand, delimiter = '\\t', fmt = '%i')"
   ]
  },
  {
   "cell_type": "code",
   "execution_count": 13,
   "metadata": {},
   "outputs": [
    {
     "data": {
      "text/plain": [
       "96"
      ]
     },
     "execution_count": 13,
     "metadata": {},
     "output_type": "execute_result"
    }
   ],
   "source": [
    "num2"
   ]
  },
  {
   "cell_type": "code",
   "execution_count": 14,
   "metadata": {},
   "outputs": [
    {
     "name": "stdout",
     "output_type": "stream",
     "text": [
      "[[   2    4  252 -255 -289   46 2000 3200]\n",
      " [   2    1  206   64 -247 -323 2000 3200]\n",
      " [   3    1  309 -161 -244 -329 2000 3200]\n",
      " [   1    3  231  200 -151  198 2000 3200]\n",
      " [   1    2  255   17 -327 -337 2000 3200]\n",
      " [   4    3 -255 -263  257 -169 2000 3200]\n",
      " [   3    2 -260 -223  132  143 2000 3200]\n",
      " [   4    1 -238  202  305 -300 2000 3200]\n",
      " [   3    4  119  -15 -334  -72 2000 3200]\n",
      " [   1    4 -268 -125  206  309 2000 3200]\n",
      " [   2    3 -289  288  245  167 2000 3200]\n",
      " [   4    2 -175  197  240  341 2000 3200]\n",
      " [   4    1  148   12 -104  -63 2000 3200]\n",
      " [   3    4 -152 -148  334  331 2000 3200]\n",
      " [   2    3  121  -11 -270  257 2000 3200]\n",
      " [   1    3  107 -118 -259  269 2000 3200]\n",
      " [   2    1  184  280 -240  319 2000 3200]\n",
      " [   4    2  160 -135 -196 -228 2000 3200]\n",
      " [   1    2 -184 -102  215 -254 2000 3200]\n",
      " [   2    4 -237  190  145 -183 2000 3200]\n",
      " [   3    1 -124   95  152  158 2000 3200]\n",
      " [   1    4 -198  239  156   67 2000 3200]\n",
      " [   3    2  341  -68 -160 -115 2000 3200]\n",
      " [   4    3 -328  305  304 -265 2000 3200]\n",
      " [   4    2  180  157 -234  212 2000 3200]\n",
      " [   3    4  142  132 -318  105 2000 3200]\n",
      " [   1    4 -274 -285  131 -188 2000 3200]\n",
      " [   4    1  221  -45 -180 -240 2000 3200]\n",
      " [   2    4  329  161 -129 -213 2000 3200]\n",
      " [   3    2 -286 -219  163  199 2000 3200]\n",
      " [   1    3 -163  249  267   73 2000 3200]\n",
      " [   2    3 -196  139  140   71 2000 3200]\n",
      " [   4    3  254  -77 -213 -341 2000 3200]\n",
      " [   3    1 -202  -17  184  262 2000 3200]\n",
      " [   1    2 -325   97  174  -94 2000 3200]\n",
      " [   2    1  206 -177 -257 -167 2000 3200]\n",
      " [   2    4  151 -171 -101   13 2000 3200]\n",
      " [   2    1  305 -115 -241  303 2000 3200]\n",
      " [   1    2  331 -115 -134  265 2000 3200]\n",
      " [   3    4 -110  125  107   64 2000 3200]\n",
      " [   2    3  296  335 -313  330 2000 3200]\n",
      " [   4    3 -152    8  348  -30 2000 3200]\n",
      " [   4    1  225   83 -133   -8 2000 3200]\n",
      " [   1    3 -204  342  320 -245 2000 3200]\n",
      " [   4    2 -327  -81  173 -203 2000 3200]\n",
      " [   3    1  279 -175 -187  343 2000 3200]\n",
      " [   1    4 -217   55  169 -119 2000 3200]\n",
      " [   3    2 -106 -269  218  -50 2000 3200]\n",
      " [   1    4  342 -261 -290 -124 2000 3200]\n",
      " [   2    4 -253  269  148  197 2000 3200]\n",
      " [   3    1  349 -263 -295 -257 2000 3200]\n",
      " [   4    1  198 -252 -110 -178 2000 3200]\n",
      " [   1    3  348 -283 -197 -150 2000 3200]\n",
      " [   2    3 -331  115  165  143 2000 3200]\n",
      " [   1    2 -316   95  282   48 2000 3200]\n",
      " [   4    2  348  -87 -297  -43 2000 3200]\n",
      " [   3    4  219 -201 -311  147 2000 3200]\n",
      " [   4    3 -314   55  194  -26 2000 3200]\n",
      " [   3    2 -289  315  160  270 2000 3200]\n",
      " [   2    1 -306  161  164  280 2000 3200]\n",
      " [   1    4  324 -129 -243  164 2000 3200]\n",
      " [   4    3 -302   61  226 -208 2000 3200]\n",
      " [   2    1 -128  186  257  -96 2000 3200]\n",
      " [   4    1 -110    0  165 -255 2000 3200]\n",
      " [   1    3 -250  319  168  -80 2000 3200]\n",
      " [   3    1  108 -162 -194  229 2000 3200]\n",
      " [   3    2  173 -312 -115 -134 2000 3200]\n",
      " [   2    3  250   86 -177  156 2000 3200]\n",
      " [   1    2  215 -294 -266  175 2000 3200]\n",
      " [   3    4 -222  274  289  235 2000 3200]\n",
      " [   2    4 -311 -173  301  141 2000 3200]\n",
      " [   4    2  241   11 -116 -302 2000 3200]\n",
      " [   2    4  345  215 -298 -324 2000 3200]\n",
      " [   3    4  338 -252 -138  178 2000 3200]\n",
      " [   1    3  172  310 -230  -82 2000 3200]\n",
      " [   4    1 -267 -234  284   39 2000 3200]\n",
      " [   1    2 -262 -107  343   -5 2000 3200]\n",
      " [   2    1  249  206 -282  102 2000 3200]\n",
      " [   3    1  271 -243 -207  344 2000 3200]\n",
      " [   2    3 -154  255  150 -347 2000 3200]\n",
      " [   1    4 -132  199  123 -202 2000 3200]\n",
      " [   4    3  271   -7 -244 -261 2000 3200]\n",
      " [   3    2 -216 -229  177  314 2000 3200]\n",
      " [   4    2 -289  320  341  195 2000 3200]\n",
      " [   4    2  323    6 -336  -46 2000 3200]\n",
      " [   3    2 -330 -318  267  186 2000 3200]\n",
      " [   1    3 -343  226  186 -114 2000 3200]\n",
      " [   2    3 -159  307  159  135 2000 3200]\n",
      " [   2    4 -162  -69  338  315 2000 3200]\n",
      " [   1    2  221  317 -332 -144 2000 3200]\n",
      " [   3    1 -246  -60  107   28 2000 3200]\n",
      " [   3    4  214  -47 -211  285 2000 3200]\n",
      " [   1    4  303  137 -258   34 2000 3200]\n",
      " [   2    1  167 -259 -195 -310 2000 3200]\n",
      " [   4    1 -290  212  196  -42 2000 3200]\n",
      " [   4    3  297 -270 -338 -276 2000 3200]]\n"
     ]
    }
   ],
   "source": [
    "# Create random scene parameter entries: \n",
    "randN = 8 # Number of blocks (always do more than you plan to use) Note to update .txt files when changing block size!\n",
    "trialRand = np.zeros((randN*12, 8))\n",
    "num2 = 0\n",
    "\n",
    "targetRand = targetID\n",
    "\n",
    "for j in range(randN):\n",
    "    # Produce randomized targets and coordinates\n",
    "    np.random.shuffle(balanceLR)\n",
    "    np.random.shuffle(balanceHL1)\n",
    "    np.random.shuffle(balanceHL2)\n",
    "\n",
    "    balanceLR1 = balanceLR\n",
    "    balanceLR2 = -1*balanceLR\n",
    "\n",
    "    # draw random values \n",
    "    randX1r = np.around((np.random.rand(12)*(x[1]-x[0]) + x[0])*balanceLR1, decimals = 0)\n",
    "    randX2r = np.around((np.random.rand(12)*(x[1]-x[0]) + x[0])*balanceLR2, decimals = 0)\n",
    "    randY1r = np.around((np.random.rand(12)*(x[1]) )*balanceHL1, decimals = 0)\n",
    "    randY2r = np.around((np.random.rand(12)*(x[1]) )*balanceHL2, decimals = 0)\n",
    "    \n",
    "    np.random.shuffle(targetRand)\n",
    "    \n",
    "    for k in range(12): \n",
    "        trialRand[num2,0] = targetRand[k,0]\n",
    "        trialRand[num2,1] = targetRand[k,1]\n",
    "        trialRand[num2,2] = randX1r[k]\n",
    "        trialRand[num2,3] = randY1r[k]\n",
    "        trialRand[num2,4] = randX2r[k]\n",
    "        trialRand[num2,5] = randY2r[k]\n",
    "        trialRand[num2,6] = delays[k,0]\n",
    "        trialRand[num2,7] = delays[k,1]\n",
    "        num2 += 1\n",
    "        \n",
    "trialRand.astype(int)\n",
    "print(trialRand.astype(int))\n",
    "\n",
    "np.savetxt('targetRandParamsOP' + paramNum+ '.txt', trialRand, delimiter = '\\t', fmt = '%i')"
   ]
  },
  {
   "cell_type": "code",
   "execution_count": null,
   "metadata": {},
   "outputs": [],
   "source": []
  }
 ],
 "metadata": {
  "kernelspec": {
   "display_name": "Python 3",
   "language": "python",
   "name": "python3"
  },
  "language_info": {
   "codemirror_mode": {
    "name": "ipython",
    "version": 3
   },
   "file_extension": ".py",
   "mimetype": "text/x-python",
   "name": "python",
   "nbconvert_exporter": "python",
   "pygments_lexer": "ipython3",
   "version": "3.7.3"
  }
 },
 "nbformat": 4,
 "nbformat_minor": 2
}
