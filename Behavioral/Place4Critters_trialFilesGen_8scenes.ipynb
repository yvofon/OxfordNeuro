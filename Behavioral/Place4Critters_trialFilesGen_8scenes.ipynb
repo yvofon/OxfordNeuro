{
 "cells": [
  {
   "cell_type": "code",
   "execution_count": 1,
   "metadata": {},
   "outputs": [],
   "source": [
    "## Script to generate randomized txt files for Catch the critter - Long experiment"
   ]
  },
  {
   "cell_type": "code",
   "execution_count": 2,
   "metadata": {},
   "outputs": [],
   "source": [
    "# Create a txt file with tab delimited numbers as follows (36 long, 0's for random trials)\n",
    "# targetID1 targetID2 xloc1 yloc1 xloc2 yloc2 delay1 delay2\n",
    "# target ID can be 1,2,3\n",
    "# x, y random pick between 100-400 [check this with presentation script], balanced by visual field (also within a trial one on each side)\n",
    "# delay can be 2000, 3200, 5000, needs to be balanced"
   ]
  },
  {
   "cell_type": "code",
   "execution_count": 3,
   "metadata": {},
   "outputs": [],
   "source": [
    "import numpy as np\n",
    "import pandas as pd\n",
    "\n",
    "paramNum = 'i10'"
   ]
  },
  {
   "cell_type": "code",
   "execution_count": 4,
   "metadata": {},
   "outputs": [],
   "source": [
    "# Pixel value range\n",
    "x = [100, 300]\n",
    "\n",
    "\n",
    "# Set up coordinates and balance\n",
    "balanceLR = np.array([1,1,1,1, -1,-1,-1,-1,])\n",
    "balanceHL1 = np.array([1,1,1,1,-1,-1,-1,-1])\n",
    "balanceHL2 = np.array([1,1,1,1,-1,-1,-1,-1])\n",
    "\n",
    "np.random.shuffle(balanceLR)\n",
    "np.random.shuffle(balanceHL1)\n",
    "np.random.shuffle(balanceHL2)\n",
    "\n",
    "balanceLR1 = balanceLR\n",
    "balanceLR2 = -1*balanceLR\n",
    "\n",
    "# draw random values \n",
    "randX1 = np.around((np.random.rand(8)*(x[1]-x[0]) + x[0])*balanceLR1, decimals = 0)\n",
    "randX2 = np.around((np.random.rand(8)*(x[1]-x[0]) + x[0])*balanceLR2, decimals = 0)\n",
    "randY1 = np.around((np.random.rand(8)*(x[1]))*balanceHL1, decimals = 0)\n",
    "randY2 = np.around((np.random.rand(8)*(x[1]))*balanceHL2, decimals = 0)"
   ]
  },
  {
   "cell_type": "code",
   "execution_count": 5,
   "metadata": {},
   "outputs": [
    {
     "name": "stdout",
     "output_type": "stream",
     "text": [
      "[[1 2]\n",
      " [2 3]\n",
      " [3 4]\n",
      " [4 1]\n",
      " [1 3]\n",
      " [2 4]\n",
      " [3 1]\n",
      " [4 2]]\n"
     ]
    }
   ],
   "source": [
    "# To create equal numbers of animals in the first presentation and the second presentation, we need to write a 2D matrix (1,2,3,4) by (1,2,3,4)\n",
    "# We can pick combinations (i.e. first row: 1,1; 1,2; 1,3; 1,4) in this 2D matrix in the off diagonals (no two of the same animals in one trial)\n",
    "# to balance the critter numbers. This gives us three groups (a,b,c) of four combo's that are balanced:\n",
    "#   1 2 3 4\n",
    "# 1 x a b c\n",
    "# 2 c x a b\n",
    "# 3 b c x a\n",
    "# 4 a b c x\n",
    "\n",
    "targetID_a = np.matrix('1,2; 2,3; 3,4; 4,1')\n",
    "targetID_b = np.matrix('1,3; 2,4; 3,1; 4,2')\n",
    "targetID_c = np.matrix('1,4; 2,1; 3,2; 4,3')\n",
    "\n",
    "# only two out of three can be used for the predictable scenes (since there is a total of 8)\n",
    "# randomly pick which one to leave out\n",
    "picks = [1,2,3]\n",
    "np.random.shuffle(picks)\n",
    "if picks[0] == 1:\n",
    "    targetID = np.concatenate((targetID_b, targetID_c), axis = 0)\n",
    "    print(targetID)\n",
    "\n",
    "elif picks[0] == 2:\n",
    "    targetID = np.concatenate((targetID_a, targetID_c), axis = 0)\n",
    "    print(targetID)\n",
    "else:\n",
    "    targetID = np.concatenate((targetID_a, targetID_b), axis = 0)\n",
    "    print(targetID)\n",
    "    "
   ]
  },
  {
   "cell_type": "code",
   "execution_count": 6,
   "metadata": {},
   "outputs": [],
   "source": [
    "# Target identity\n",
    "#tmpID = np.matrix('1,2; 1, 3; 1,4 ; 2, 1; 2, 3; 2, 4; 3, 1; 3, 2; 3, 4; 4, 1; 4, 2; 4, 3')\n",
    "#targetID = tmpID#np.tile(tmpID, (2,1)) # 24 total\n",
    "\n",
    "#Set up delays matrix and randomize\n",
    "tmpD = np.matrix('2000, 3200')\n",
    "delays = np.repeat(tmpD, 12, axis = 0)\n",
    "\n",
    "rng_state = np.random.get_state()\n",
    "np.random.shuffle(delays)\n",
    "np.random.set_state(rng_state)\n",
    "np.random.shuffle(targetID) # not really relevant anymore but leaving it in in case we change the time-windows again\n",
    "#np.random.shuffle(delays)\n",
    "#np.random.shuffle(targetID)\n"
   ]
  },
  {
   "cell_type": "code",
   "execution_count": 7,
   "metadata": {
    "scrolled": true
   },
   "outputs": [],
   "source": [
    "# Generate random vs predictable trials\n",
    "\n",
    "randScenes = np.array([0,1])\n",
    "randScenes = np.repeat(randScenes, 8)\n",
    "np.random.shuffle(randScenes)"
   ]
  },
  {
   "cell_type": "code",
   "execution_count": 8,
   "metadata": {},
   "outputs": [
    {
     "data": {
      "text/plain": [
       "array([1, 1, 1, 0, 1, 1, 0, 0, 0, 1, 1, 0, 0, 0, 0, 1])"
      ]
     },
     "execution_count": 8,
     "metadata": {},
     "output_type": "execute_result"
    }
   ],
   "source": [
    "randScenes"
   ]
  },
  {
   "cell_type": "code",
   "execution_count": 9,
   "metadata": {},
   "outputs": [
    {
     "name": "stdout",
     "output_type": "stream",
     "text": [
      "[[   2    4 -113 -284  102   -1 2000 3200]\n",
      " [   1    2 -287    9  136 -272 2000 3200]\n",
      " [   3    4  178   -6 -104  158 2000 3200]\n",
      " [   0    0    0    0    0    0    0    0]\n",
      " [   1    3  136  280 -204  146 2000 3200]\n",
      " [   3    1 -149  285  139  286 2000 3200]\n",
      " [   0    0    0    0    0    0    0    0]\n",
      " [   0    0    0    0    0    0    0    0]\n",
      " [   0    0    0    0    0    0    0    0]\n",
      " [   2    3  169 -164 -117 -225 2000 3200]\n",
      " [   4    1 -180 -186  220   98 2000 3200]\n",
      " [   0    0    0    0    0    0    0    0]\n",
      " [   0    0    0    0    0    0    0    0]\n",
      " [   0    0    0    0    0    0    0    0]\n",
      " [   0    0    0    0    0    0    0    0]\n",
      " [   4    2  189  191 -178 -177 2000 3200]]\n"
     ]
    }
   ],
   "source": [
    "# generate final matrix\n",
    "num = 0\n",
    "trialInfo = np.zeros((16, 8))\n",
    "for i in range(16):\n",
    "    if randScenes[i]:\n",
    "        trialInfo[i, 0] = targetID[num, 0]\n",
    "        trialInfo[i, 1] = targetID[num, 1]\n",
    "        trialInfo[i, 2] = randX1[num]\n",
    "        trialInfo[i, 3] = randY1[num]\n",
    "        trialInfo[i, 4] = randX2[num]\n",
    "        trialInfo[i, 5] = randY2[num]\n",
    "        trialInfo[i, 6] = delays[num, 0]\n",
    "        trialInfo[i, 7] = delays[num, 1]\n",
    "        num += 1\n",
    "#np.around(trialInfo, decimals = 0)\n",
    "trialInfo.astype(int)\n",
    "print(trialInfo.astype(int))\n"
   ]
  },
  {
   "cell_type": "code",
   "execution_count": 10,
   "metadata": {},
   "outputs": [],
   "source": [
    "# save file\n",
    "\n",
    "np.savetxt('target8ParamsP' + paramNum + '.txt', trialInfo, delimiter = '\\t', fmt = '%i')"
   ]
  },
  {
   "cell_type": "code",
   "execution_count": 11,
   "metadata": {},
   "outputs": [
    {
     "name": "stdout",
     "output_type": "stream",
     "text": [
      "[[   3    1 -267 -220  257  -75 2000 3200]\n",
      " [   2    4 -117   81  225 -135 2000 3200]\n",
      " [   2    1  199  252 -298  258 2000 3200]\n",
      " [   4    3 -173 -253  113   22 2000 3200]\n",
      " [   1    4  168 -116 -177  -52 2000 3200]\n",
      " [   3    2  287  -46 -191 -118 2000 3200]\n",
      " [   4    2 -162  174  121    7 2000 3200]\n",
      " [   1    3  266  263 -152  249 2000 3200]\n",
      " [   1    2  182  264 -236   97 2000 3200]\n",
      " [   1    4 -295 -111  118  240 2000 3200]\n",
      " [   2    1  135 -267 -300  -26 2000 3200]\n",
      " [   3    2 -178    4  142 -199 2000 3200]\n",
      " [   4    3 -129 -214  130    0 2000 3200]\n",
      " [   3    4  102  -41 -130  120 2000 3200]\n",
      " [   4    1  283  214 -181  -55 2000 3200]\n",
      " [   2    3 -112   22  205 -187 2000 3200]\n",
      " [   1    3 -128 -268  296   73 2000 3200]\n",
      " [   4    2  275   41 -102  107 2000 3200]\n",
      " [   4    3  153  -48 -266 -178 2000 3200]\n",
      " [   2    1 -121   52  265  272 2000 3200]\n",
      " [   2    4  167 -134 -189   -1 2000 3200]\n",
      " [   3    1  107 -230 -130 -218 2000 3200]\n",
      " [   3    2 -210  110  272  153 2000 3200]\n",
      " [   1    4 -190   32  147  -89 2000 3200]\n",
      " [   3    4 -193  262  245  229 2000 3200]\n",
      " [   1    4  170 -146 -286  -44 2000 3200]\n",
      " [   1    2  108  294 -113  105 2000 3200]\n",
      " [   4    1  242   47 -186 -239 2000 3200]\n",
      " [   2    3 -174  203  228  277 2000 3200]\n",
      " [   2    1 -257 -199  105  -25 2000 3200]\n",
      " [   4    3 -202 -100  149  -90 2000 3200]\n",
      " [   3    2  247 -208 -139  134 2000 3200]\n",
      " [   2    4  185 -266 -289  -79 2000 3200]\n",
      " [   1    4  119   12 -155 -137 2000 3200]\n",
      " [   3    1  229  275 -174    3 2000 3200]\n",
      " [   3    2 -236 -202  284   24 2000 3200]\n",
      " [   1    3 -180  -14  113  299 2000 3200]\n",
      " [   4    2  274  264 -103  -17 2000 3200]\n",
      " [   2    1 -138   47  274  -54 2000 3200]\n",
      " [   4    3 -239 -280  170  141 2000 3200]\n",
      " [   3    4  121 -297 -209  -28 2000 3200]\n",
      " [   2    1  210  177 -106 -140 2000 3200]\n",
      " [   1    2 -161   86  103  178 2000 3200]\n",
      " [   1    4 -134  -89  114 -228 2000 3200]\n",
      " [   3    2  295   18 -164  -92 2000 3200]\n",
      " [   2    3 -167 -153  179  186 2000 3200]\n",
      " [   4    3 -184   -6  221  222 2000 3200]\n",
      " [   4    1  234  116 -237  237 2000 3200]\n",
      " [   4    2  192  103 -200 -185 2000 3200]\n",
      " [   4    3 -250   46  290 -168 2000 3200]\n",
      " [   3    1  264  239 -290   10 2000 3200]\n",
      " [   1    3 -148  -93  193   76 2000 3200]\n",
      " [   2    1  213  -67 -152  -90 2000 3200]\n",
      " [   3    2 -295  -76  183  182 2000 3200]\n",
      " [   2    4  257 -269 -179 -255 2000 3200]\n",
      " [   1    4 -241  298  103  164 2000 3200]\n",
      " [   1    4  108  -27 -219  -25 2000 3200]\n",
      " [   4    1 -196 -295  217  211 2000 3200]\n",
      " [   3    2  179 -100 -248  155 2000 3200]\n",
      " [   2    1 -184  283  103 -133 2000 3200]\n",
      " [   1    2 -158  104  253 -189 2000 3200]\n",
      " [   4    3 -256  243  191   97 2000 3200]\n",
      " [   3    4  106 -165 -101  -33 2000 3200]\n",
      " [   2    3  117  231 -294  121 2000 3200]]\n"
     ]
    }
   ],
   "source": [
    "# Create random scene parameter entries: \n",
    "randN = 8 # Number of blocks (always do more than you plan to use) Note to update .txt files when changing block size!\n",
    "trialRand = np.zeros((randN*8, 8))\n",
    "num2 = 0\n",
    "\n",
    "if np.random.rand(1) > 0.5: \n",
    "    picks2 = [1,0,1,0,1,0,1,0]\n",
    "else: \n",
    "    picks2 = [0,1,0,1,0,1,0,1]\n",
    "    \n",
    "    \n",
    "for j in range(randN):\n",
    "    # Produce randomized targets and coordinates\n",
    "    np.random.shuffle(balanceLR)\n",
    "    np.random.shuffle(balanceHL1)\n",
    "    np.random.shuffle(balanceHL2)\n",
    "    #np.random.shuffle(targetRand)\n",
    "    \n",
    "    if picks2[j]:\n",
    "        if picks[0] == 1:\n",
    "            targetRand = np.concatenate((targetID_a, targetID_c), axis = 0)\n",
    "            \n",
    "\n",
    "        elif picks[0] == 2:\n",
    "            targetRand = np.concatenate((targetID_b, targetID_a), axis = 0)\n",
    "    \n",
    "        else:\n",
    "            targetRand = np.concatenate((targetID_c, targetID_b), axis = 0)\n",
    "    \n",
    "    else:\n",
    "        if picks[0] == 1:\n",
    "            targetRand = np.concatenate((targetID_a, targetID_b), axis = 0)\n",
    "            \n",
    "\n",
    "        elif picks[0] == 2:\n",
    "            targetRand = np.concatenate((targetID_b, targetID_c), axis = 0)\n",
    "    \n",
    "        else:\n",
    "            targetRand = np.concatenate((targetID_c, targetID_a), axis = 0)\n",
    "            \n",
    "            \n",
    "\n",
    "    balanceLR1 = balanceLR\n",
    "    balanceLR2 = -1*balanceLR\n",
    "\n",
    "    # draw random values \n",
    "    randX1r = np.around((np.random.rand(8)*(x[1]-x[0]) + x[0])*balanceLR1, decimals = 0)\n",
    "    randX2r = np.around((np.random.rand(8)*(x[1]-x[0]) + x[0])*balanceLR2, decimals = 0)\n",
    "    randY1r = np.around((np.random.rand(8)*(x[1]) )*balanceHL1, decimals = 0)\n",
    "    randY2r = np.around((np.random.rand(8)*(x[1]) )*balanceHL2, decimals = 0)\n",
    "    \n",
    "    np.random.shuffle(targetRand)\n",
    "    \n",
    "    for k in range(8): \n",
    "        trialRand[num2,0] = targetRand[k,0]\n",
    "        trialRand[num2,1] = targetRand[k,1]\n",
    "        trialRand[num2,2] = randX1r[k]\n",
    "        trialRand[num2,3] = randY1r[k]\n",
    "        trialRand[num2,4] = randX2r[k]\n",
    "        trialRand[num2,5] = randY2r[k]\n",
    "        trialRand[num2,6] = delays[k,0]\n",
    "        trialRand[num2,7] = delays[k,1]\n",
    "        num2 += 1\n",
    "        \n",
    "trialRand.astype(int)\n",
    "print(trialRand.astype(int))"
   ]
  },
  {
   "cell_type": "code",
   "execution_count": 12,
   "metadata": {},
   "outputs": [],
   "source": [
    "np.savetxt('target8RandParamsP'+ paramNum + '.txt', trialRand, delimiter = '\\t', fmt = '%i')"
   ]
  },
  {
   "cell_type": "code",
   "execution_count": 13,
   "metadata": {},
   "outputs": [
    {
     "data": {
      "text/plain": [
       "(array([128.,   0.,  64.,   0.,   0.,  64.,   0.,  64.,   0.,  64.]),\n",
       " array([0. , 0.4, 0.8, 1.2, 1.6, 2. , 2.4, 2.8, 3.2, 3.6, 4. ]),\n",
       " <a list of 10 Patch objects>)"
      ]
     },
     "execution_count": 13,
     "metadata": {},
     "output_type": "execute_result"
    },
    {
     "data": {
      "image/png": "[encoded data removed]",
      "text/plain": [
       "<Figure size 432x288 with 1 Axes>"
      ]
     },
     "metadata": {
      "needs_background": "light"
     },
     "output_type": "display_data"
    }
   ],
   "source": [
    "%matplotlib inline\n",
    "import matplotlib.pyplot as plt\n",
    "trialRand[:,0]\n",
    "newList = np.concatenate((trialRand[:,0], trialRand[:,1], np.tile(trialInfo[:,0], 8), np.tile(trialInfo[:,1], 8)))\n",
    "\n",
    "plt.hist(newList)\n",
    "\n"
   ]
  },
  {
   "cell_type": "code",
   "execution_count": 14,
   "metadata": {},
   "outputs": [],
   "source": [
    "# Check distribution of animals left and right\n",
    "\n"
   ]
  },
  {
   "cell_type": "code",
   "execution_count": 15,
   "metadata": {},
   "outputs": [
    {
     "name": "stdout",
     "output_type": "stream",
     "text": [
      "[[   1    2 -127 -287  294  286 2000 3200]\n",
      " [   3    2 -160  153  245   31 2000 3200]\n",
      " [   3    4  195  -11 -177 -112 2000 3200]\n",
      " [   1    4 -235  131  208 -259 2000 3200]\n",
      " [   4    1 -219  -27  120  -92 2000 3200]\n",
      " [   2    1  225  135 -221  228 2000 3200]\n",
      " [   2    3  139 -128 -235  120 2000 3200]\n",
      " [   4    3  118   42 -246  -51 2000 3200]\n",
      " [   4    3 -267  264  113   65 2000 3200]\n",
      " [   2    4 -263  275  242 -280 2000 3200]\n",
      " [   3    2 -124   23  130   44 2000 3200]\n",
      " [   1    4 -137 -142  237 -203 2000 3200]\n",
      " [   2    1  284  -96 -223 -232 2000 3200]\n",
      " [   3    1  164  -91 -204 -229 2000 3200]\n",
      " [   1    3  168  -55 -206  206 2000 3200]\n",
      " [   4    2  127  154 -224  222 2000 3200]\n",
      " [   4    1 -118  155  108  228 2000 3200]\n",
      " [   1    2  180 -282 -253 -275 2000 3200]\n",
      " [   2    1 -238   35  212  265 2000 3200]\n",
      " [   3    4  121  -20 -205   88 2000 3200]\n",
      " [   2    3  249  -14 -277  187 2000 3200]\n",
      " [   1    4 -174  -52  183 -205 2000 3200]\n",
      " [   3    2 -149   54  239 -199 2000 3200]\n",
      " [   4    3  283  224 -231 -231 2000 3200]\n",
      " [   2    1  235 -159 -212 -123 2000 3200]\n",
      " [   1    4 -119  199  249 -111 2000 3200]\n",
      " [   3    2 -215  101  135  -26 2000 3200]\n",
      " [   4    3 -187    3  205  238 2000 3200]\n",
      " [   3    1 -135  -80  273  245 2000 3200]\n",
      " [   4    2  217 -272 -246 -281 2000 3200]\n",
      " [   2    4  248   16 -248  269 2000 3200]\n",
      " [   1    3  257 -284 -174    9 2000 3200]\n",
      " [   1    4 -146  274  213 -235 2000 3200]\n",
      " [   4    1  259 -254 -100  -23 2000 3200]\n",
      " [   3    4 -162 -107  190 -133 2000 3200]\n",
      " [   4    3 -230  184  210  -23 2000 3200]\n",
      " [   1    2  187 -132 -234  279 2000 3200]\n",
      " [   3    2 -123 -151  216  254 2000 3200]\n",
      " [   2    3  155  170 -172  282 2000 3200]\n",
      " [   2    1  184   49 -131  286 2000 3200]\n",
      " [   2    4 -284  147  132   94 2000 3200]\n",
      " [   1    4 -104   12  285  188 2000 3200]\n",
      " [   4    2  296  -41 -105   21 2000 3200]\n",
      " [   3    2  112  148 -128  -74 2000 3200]\n",
      " [   4    3  186  -24 -150 -214 2000 3200]\n",
      " [   1    3  300 -117 -269 -217 2000 3200]\n",
      " [   3    1 -272  206  257 -112 2000 3200]\n",
      " [   2    1 -218 -280  105  209 2000 3200]\n",
      " [   4    1  228   21 -129  109 2000 3200]\n",
      " [   4    3  127  221 -166  222 2000 3200]\n",
      " [   2    1 -270 -165  228  183 2000 3200]\n",
      " [   1    4  117  -59 -114 -275 2000 3200]\n",
      " [   3    4 -194  243  236 -224 2000 3200]\n",
      " [   3    2 -119  232  196 -187 2000 3200]\n",
      " [   1    2 -224 -114  158  -85 2000 3200]\n",
      " [   2    3  275 -199 -267  186 2000 3200]\n",
      " [   1    3 -185 -244  197   84 2000 3200]\n",
      " [   3    2  184   53 -255  117 2000 3200]\n",
      " [   3    1  271 -115 -201 -220 2000 3200]\n",
      " [   1    4 -285   70  279  199 2000 3200]\n",
      " [   4    3  112  -93 -128 -252 2000 3200]\n",
      " [   4    2 -277   77  193 -268 2000 3200]\n",
      " [   2    1 -134  -31  253  -77 2000 3200]\n",
      " [   2    4  214  117 -106  290 2000 3200]]\n"
     ]
    }
   ],
   "source": [
    "# Create random scene parameter entries: \n",
    "randN = 8 # Number of blocks (always do more than you plan to use) Note to update .txt files when changing block size!\n",
    "trialRand = np.zeros((randN*8, 8))\n",
    "num2 = 0\n",
    "\n",
    "if np.random.rand(1) > 0.5: \n",
    "    picks2 = [1,0,1,0,1,0,1,0]\n",
    "else: \n",
    "    picks2 = [0,1,0,1,0,1,0,1]\n",
    "\n",
    "for j in range(randN):\n",
    "    \n",
    "    if picks2[j]:\n",
    "        if picks[0] == 1:\n",
    "            targetRand = np.concatenate((targetID_a, targetID_c), axis = 0)\n",
    "            \n",
    "\n",
    "        elif picks[0] == 2:\n",
    "            targetRand = np.concatenate((targetID_b, targetID_a), axis = 0)\n",
    "    \n",
    "        else:\n",
    "            targetRand = np.concatenate((targetID_c, targetID_b), axis = 0)\n",
    "    \n",
    "    else:\n",
    "        if picks[0] == 1:\n",
    "            targetRand = np.concatenate((targetID_a, targetID_b), axis = 0)\n",
    "            \n",
    "\n",
    "        elif picks[0] == 2:\n",
    "            targetRand = np.concatenate((targetID_b, targetID_c), axis = 0)\n",
    "    \n",
    "        else:\n",
    "            targetRand = np.concatenate((targetID_c, targetID_a), axis = 0)\n",
    "    \n",
    "    # Produce randomized targets and coordinates\n",
    "    np.random.shuffle(balanceLR)\n",
    "    np.random.shuffle(balanceHL1)\n",
    "    np.random.shuffle(balanceHL2)\n",
    "\n",
    "    balanceLR1 = balanceLR\n",
    "    balanceLR2 = -1*balanceLR\n",
    "\n",
    "    # draw random values \n",
    "    randX1r = np.around((np.random.rand(8)*(x[1]-x[0]) + x[0])*balanceLR1, decimals = 0)\n",
    "    randX2r = np.around((np.random.rand(8)*(x[1]-x[0]) + x[0])*balanceLR2, decimals = 0)\n",
    "    randY1r = np.around((np.random.rand(8)*(x[1]) )*balanceHL1, decimals = 0)\n",
    "    randY2r = np.around((np.random.rand(8)*(x[1]) )*balanceHL2, decimals = 0)\n",
    "    \n",
    "    np.random.shuffle(targetRand)\n",
    "    \n",
    "    for k in range(8): \n",
    "        trialRand[num2,0] = targetRand[k,0]\n",
    "        trialRand[num2,1] = targetRand[k,1]\n",
    "        trialRand[num2,2] = randX1r[k]\n",
    "        trialRand[num2,3] = randY1r[k]\n",
    "        trialRand[num2,4] = randX2r[k]\n",
    "        trialRand[num2,5] = randY2r[k]\n",
    "        trialRand[num2,6] = delays[k,0]\n",
    "        trialRand[num2,7] = delays[k,1]\n",
    "        num2 += 1\n",
    "        \n",
    "trialRand.astype(int)\n",
    "print(trialRand.astype(int))\n",
    "\n",
    "np.savetxt('target8RandParamsOP' + paramNum+ '.txt', trialRand, delimiter = '\\t', fmt = '%i')"
   ]
  },
  {
   "cell_type": "code",
   "execution_count": null,
   "metadata": {},
   "outputs": [],
   "source": []
  }
 ],
 "metadata": {
  "kernelspec": {
   "display_name": "Python 3",
   "language": "python",
   "name": "python3"
  },
  "language_info": {
   "codemirror_mode": {
    "name": "ipython",
    "version": 3
   },
   "file_extension": ".py",
   "mimetype": "text/x-python",
   "name": "python",
   "nbconvert_exporter": "python",
   "pygments_lexer": "ipython3",
   "version": "3.7.3"
  }
 },
 "nbformat": 4,
 "nbformat_minor": 2
}
